{
 "cells": [
  {
   "cell_type": "code",
   "execution_count": 1,
   "metadata": {},
   "outputs": [
    {
     "name": "stdout",
     "output_type": "stream",
     "text": [
      "Creating RawArray with float64 data, n_channels=60, n_times=1000\n",
      "    Range : 0 ... 999 =      0.000 ...     0.999 secs\n",
      "Ready.\n",
      "Writing '/Users/Timon/Documents/UCSF_Analysis/BIDS/participants.tsv'...\n",
      "Writing '/Users/Timon/Documents/UCSF_Analysis/BIDS/participants.json'...\n",
      "Writing '/Users/Timon/Documents/UCSF_Analysis/BIDS/dataset_description.json'...\n",
      "Writing '/Users/Timon/Documents/UCSF_Analysis/BIDS/sub-01/ses-01/ieeg/sub-01_ses-01_task-rest_ieeg.json'...\n",
      "Found no extension for raw file, assuming \"BTi\" format and appending extension .pdf\n",
      "Writing '/Users/Timon/Documents/UCSF_Analysis/BIDS/sub-01/ses-01/ieeg/sub-01_ses-01_task-rest_channels.tsv'...\n",
      "Copying data files to sub-01_ses-01_task-rest_ieeg.vhdr\n",
      "Writing '/Users/Timon/Documents/UCSF_Analysis/BIDS/sub-01/ses-01/sub-01_ses-01_scans.tsv'...\n",
      "Wrote /Users/Timon/Documents/UCSF_Analysis/BIDS/sub-01/ses-01/sub-01_ses-01_scans.tsv entry with ieeg/sub-01_ses-01_task-rest_ieeg.vhdr.\n",
      "Reading 0 ... 999  =      0.000 ...     0.999 secs...\n",
      "mni_tal\n"
     ]
    },
    {
     "name": "stderr",
     "output_type": "stream",
     "text": [
      "/var/folders/k2/g3zyypzx0nq2_w67q_1j4kbc0000gn/T/ipykernel_86402/2886123726.py:42: RuntimeWarning: No events found or provided. Please add annotations to the raw data, or provide the events and event_id parameters. For resting state data, BIDS recommends naming the task using labels beginning with \"rest\".\n",
      "  mne_bids.write_raw_bids(\n",
      "/var/folders/k2/g3zyypzx0nq2_w67q_1j4kbc0000gn/T/ipykernel_86402/2886123726.py:42: RuntimeWarning: Converting data files to BrainVision format\n",
      "  mne_bids.write_raw_bids(\n",
      "/var/folders/k2/g3zyypzx0nq2_w67q_1j4kbc0000gn/T/ipykernel_86402/2886123726.py:42: RuntimeWarning: Encountered data in \"double\" format. Converting to float32.\n",
      "  mne_bids.write_raw_bids(\n"
     ]
    },
    {
     "name": "stdout",
     "output_type": "stream",
     "text": [
      "Using pyvistaqt 3d backend.\n",
      "\n"
     ]
    },
    {
     "name": "stderr",
     "output_type": "stream",
     "text": [
      "/var/folders/k2/g3zyypzx0nq2_w67q_1j4kbc0000gn/T/ipykernel_86402/2886123726.py:105: SettingWithCopyWarning: \n",
      "A value is trying to be set on a copy of a slice from a DataFrame\n",
      "\n",
      "See the caveats in the documentation: https://pandas.pydata.org/pandas-docs/stable/user_guide/indexing.html#returning-a-view-versus-a-copy\n",
      "  per_[per_ < 0.5] = 0.5\n"
     ]
    },
    {
     "name": "stdout",
     "output_type": "stream",
     "text": [
      "For automatic theme detection, \"darkdetect\" has to be installed! You can install it with `pip install darkdetect`\n",
      "For automatic theme detection, \"darkdetect\" has to be installed! You can install it with `pip install darkdetect`\n",
      "Channel types::\tecog: 60\n",
      "For automatic theme detection, \"darkdetect\" has to be installed! You can install it with `pip install darkdetect`\n",
      "For automatic theme detection, \"darkdetect\" has to be installed! You can install it with `pip install darkdetect`\n",
      "hallo\n"
     ]
    }
   ],
   "source": [
    "import mne\n",
    "mne.datasets.misc.data_path()\n",
    "import pandas as pd\n",
    "import numpy as np\n",
    "from mne.viz import plot_alignment, snapshot_brain_montage\n",
    "import mne_bids\n",
    "\n",
    "from mne_bids import BIDSPath, read_raw_bids\n",
    "from pathlib import Path\n",
    "from matplotlib import pyplot as plt\n",
    "from matplotlib import colormaps\n",
    "\n",
    "\n",
    "ch_pe = pd.read_csv(\"out_per/df_per_ind.csv\")\n",
    "ch_coords = pd.read_csv(\"ch_coords_mean.csv\")\n",
    "ch_coords[\"ch_names\"] = ch_coords[\"sub\"] + \"_\" + ch_coords[\"ch\"]\n",
    "# add column per in ch_coords that matches the ch and sub from ch_pe\n",
    "ch_coords[\"per\"] = np.nan\n",
    "for i in range(ch_coords.shape[0]):\n",
    "    ch_coords.loc[i, \"per\"] = ch_pe.loc[\n",
    "        (ch_pe[\"sub\"] == ch_coords.loc[i, \"sub\"]) & (ch_pe[\"ch\"] == ch_coords.loc[i, \"ch\"]), \"per\"\n",
    "    ].values[0]\n",
    "\n",
    "\n",
    "raw = mne.io.RawArray(\n",
    "    data = np.random.randn(ch_coords.shape[0], 1000),\n",
    "    info=mne.create_info(\n",
    "        ch_names=list(ch_coords.ch_names),\n",
    "        ch_types=\"ecog\",\n",
    "        sfreq=1000,\n",
    "        #montage=mne.channels.make_dig_montage(\n",
    "        #    ch_pos=dict(zip(ch_coords[\"ch\"], ch_coords[[\"MNI_X\", \"MNI_Y\", \"MNI_Z\"]].values))\n",
    "        #)\n",
    "    )\n",
    ")\n",
    "\n",
    "bids_path = mne_bids.BIDSPath(\n",
    "    subject=\"01\", session=\"01\", task=\"rest\",\n",
    "    root=\"/Users/Timon/Documents/UCSF_Analysis/BIDS\"\n",
    ")\n",
    "\n",
    "mne_bids.write_raw_bids(\n",
    "    raw, bids_path=bids_path, overwrite=True, allow_preload=True, format=\"BrainVision\"\n",
    ")\n",
    "\n",
    "montage_out = pd.DataFrame()\n",
    "montage_out[\"name\"] = ch_coords[\"ch_names\"]\n",
    "montage_out[\"x\"] = ch_coords[\"MNI_X\"]\n",
    "montage_out[\"y\"] = ch_coords[\"MNI_Y\"]\n",
    "montage_out[\"z\"] = ch_coords[\"MNI_Z\"]\n",
    "#montage_out.to_csv(\"/Users/Timon/Documents/UCSF_Analysis/BIDS/sub-01/ses-01/ieeg/sub-01_ses-01_space-MNI152NLin2009bAsym_electrodes.tsv\", index=False, sep=\"\\t\")\n",
    "\n",
    "\n",
    "bids_root = \"/Users/Timon/Documents/UCSF_Analysis/BIDS\"\n",
    "# first define the bids path\n",
    "bids_path = BIDSPath(\n",
    "    root=bids_root,\n",
    "    subject=\"01\",\n",
    "    session=\"01\",\n",
    "    task=\"rest\",\n",
    "    datatype=\"ieeg\",\n",
    "    extension=\".vhdr\",\n",
    ")\n",
    "\n",
    "# Then we'll use it to load in the sample dataset. This function changes the\n",
    "# units of some channels, so we suppress a related warning here by using\n",
    "# verbose='error'.\n",
    "raw = read_raw_bids(bids_path=bids_path, verbose=\"error\")\n",
    "\n",
    "# Pick only the ECoG channels, removing the EKG channels\n",
    "raw.pick(picks=\"ecog\")\n",
    "\n",
    "# Load the data\n",
    "raw.load_data()\n",
    "\n",
    "# Then we remove line frequency interference\n",
    "#raw.notch_filter([60], trans_bandwidth=3)\n",
    "\n",
    "# drop bad channels\n",
    "#raw.drop_channels(raw.info[\"bads\"])\n",
    "\n",
    "# the coordinate frame of the montage\n",
    "montage = raw.get_montage()\n",
    "print(montage.get_positions()[\"coord_frame\"])\n",
    "\n",
    "# add fiducials to montage\n",
    "path_data = \"Users/Timon/mne_data\"\n",
    "#bids_root = mne.datasets.epilepsy_ecog.data_path(path=path_data, download=True)\n",
    "bids_root = Path(\"/Users/Timon/mne_data/MNE-epilepsy-ecog-data\")\n",
    "#sample_path = mne.datasets.sample.data_path(path=path_data, download=True)\n",
    "sample_path = Path(\"/Users/Timon/mne_data/MNE-sample-data\")\n",
    "subjects_dir = sample_path / \"subjects\"\n",
    "montage.add_mni_fiducials(subjects_dir)\n",
    "\n",
    "# now with fiducials assigned, the montage will be properly converted\n",
    "# to \"head\" which is what MNE requires internally (this is the coordinate\n",
    "# system with the origin between LPA and RPA whereas MNI has the origin\n",
    "# at the posterior commissure)\n",
    "raw.set_montage(montage)\n",
    "\n",
    "mne.viz.set_3d_backend(\"pyvistaqt\")\n",
    "\n",
    "rgba = colormaps.get_cmap(\"viridis\")\n",
    "per_ = ch_coords[\"per\"]\n",
    "per_[per_ < 0.5] = 0.5\n",
    "per_ = (per_ - per_.min()) / (per_.max() - per_.min())\n",
    "\n",
    "\n",
    "\n",
    "sensor_colors = np.array(per_.map(rgba).tolist(), float)\n",
    "sensor_colors[:, 3] = 1\n",
    "\n",
    "fig = plot_alignment(\n",
    "    raw.info,\n",
    "    trans=\"fsaverage\",\n",
    "    subject=\"fsaverage\",\n",
    "    subjects_dir=subjects_dir,\n",
    "    surfaces=[\"pial\"],\n",
    "    coord_frame=\"head\",\n",
    "    sensor_colors=sensor_colors,#(1.0, 1.0, 1.0, 0.5),\n",
    ")\n",
    "mne.viz.set_3d_view(fig, azimuth=0, elevation=0, focalpoint=\"auto\", distance=0.5)\n",
    "\n",
    "xy, im = snapshot_brain_montage(fig, raw.info, hide_sensors=False)\n"
   ]
  },
  {
   "cell_type": "code",
   "execution_count": 12,
   "metadata": {},
   "outputs": [
    {
     "name": "stdout",
     "output_type": "stream",
     "text": [
      "For automatic theme detection, \"darkdetect\" has to be installed! You can install it with `pip install darkdetect`\n",
      "For automatic theme detection, \"darkdetect\" has to be installed! You can install it with `pip install darkdetect`\n",
      "Channel types::\tecog: 60\n",
      "For automatic theme detection, \"darkdetect\" has to be installed! You can install it with `pip install darkdetect`\n",
      "For automatic theme detection, \"darkdetect\" has to be installed! You can install it with `pip install darkdetect`\n"
     ]
    }
   ],
   "source": [
    "sensor_colors = np.array(per_.map(rgba).tolist(), float)\n",
    "sensor_colors[:, 3] = 0.9\n",
    "\n",
    "fig = plot_alignment(\n",
    "    raw.info,\n",
    "    trans=\"fsaverage\",\n",
    "    subject=\"fsaverage\",\n",
    "    subjects_dir=subjects_dir,\n",
    "    surfaces=[\"pial\"],\n",
    "    coord_frame=\"head\",\n",
    "    sensor_colors=sensor_colors,#(1.0, 1.0, 1.0, 0.5),\n",
    ")\n",
    "mne.viz.set_3d_view(fig, azimuth=0, elevation=0, focalpoint=\"auto\", distance=0.5)\n",
    "\n",
    "xy, im = snapshot_brain_montage(fig, raw.info, hide_sensors=False)\n",
    "\n",
    "# save the figure as pdf\n",
    "#save the pyvistafigure as a png\n"
   ]
  },
  {
   "cell_type": "code",
   "execution_count": 10,
   "metadata": {},
   "outputs": [
    {
     "data": {
      "text/plain": [
       "<mne.viz.backends._pyvista.PyVistaFigure at 0x16fe29750>"
      ]
     },
     "execution_count": 10,
     "metadata": {},
     "output_type": "execute_result"
    }
   ],
   "source": []
  },
  {
   "cell_type": "code",
   "execution_count": null,
   "metadata": {},
   "outputs": [],
   "source": []
  }
 ],
 "metadata": {
  "kernelspec": {
   "display_name": ".venv",
   "language": "python",
   "name": "python3"
  },
  "language_info": {
   "codemirror_mode": {
    "name": "ipython",
    "version": 3
   },
   "file_extension": ".py",
   "mimetype": "text/x-python",
   "name": "python",
   "nbconvert_exporter": "python",
   "pygments_lexer": "ipython3",
   "version": "3.11.8"
  }
 },
 "nbformat": 4,
 "nbformat_minor": 2
}
