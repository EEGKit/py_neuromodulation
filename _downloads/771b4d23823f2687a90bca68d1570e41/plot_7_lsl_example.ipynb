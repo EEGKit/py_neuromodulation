{
  "cells": [
    {
      "cell_type": "markdown",
      "metadata": {},
      "source": [
        "\n# Lab Streaming Layer (LSL) Example\n\nThis toolbox implements the lsl ecosystem which can be utilized for offline use cases as well as live streamings\nIn this example the data introduced in the first demo is being analyzed\nin a similar manner, This time however integrating an lsl stream.\n"
      ]
    },
    {
      "cell_type": "code",
      "execution_count": null,
      "metadata": {
        "collapsed": false
      },
      "outputs": [],
      "source": [
        "from matplotlib import pyplot as plt\n\nfrom py_neuromodulation import (\n    nm_mnelsl_generator,\n    nm_IO,\n    nm_define_nmchannels,\n    nm_analysis,\n    nm_stream_offline,\n    nm_settings,\n)"
      ]
    },
    {
      "cell_type": "markdown",
      "metadata": {},
      "source": [
        "Let\u2019s get the example data from the provided BIDS dataset and create the nm_channels DataFrame.\n\n"
      ]
    },
    {
      "cell_type": "code",
      "execution_count": null,
      "metadata": {
        "collapsed": false
      },
      "outputs": [],
      "source": [
        "(\n    RUN_NAME,\n    PATH_RUN,\n    PATH_BIDS,\n    PATH_OUT,\n    datatype,\n) = nm_IO.get_paths_example_data()\n\n(\n    raw,\n    data,\n    sfreq,\n    line_noise,\n    coord_list,\n    coord_names,\n) = nm_IO.read_BIDS_data(PATH_RUN=PATH_RUN)\n\nnm_channels = nm_define_nmchannels.set_channels(\n    ch_names=raw.ch_names,\n    ch_types=raw.get_channel_types(),\n    reference=\"default\",\n    bads=raw.info[\"bads\"],\n    new_names=\"default\",\n    used_types=(\"ecog\", \"dbs\", \"seeg\"),\n    target_keywords=[\"MOV_RIGHT\"],\n)"
      ]
    },
    {
      "cell_type": "markdown",
      "metadata": {},
      "source": [
        "## Playing the Data\n\nNow we need our data to be represeted in the LSL stream.\nFor this example an mne_lsl.Player is utilized, which is playing our earlier\nrecorded data. However, you could make use of any LSL source (live or\noffline).\nIf you want to bind your own data source, make sure to specify the\nnecessary parameters (data type, type, name) accordingly.\nIf you are unsure about the parameters of your data source you can\nalways search for available lsl streams.\n\n\n"
      ]
    },
    {
      "cell_type": "code",
      "execution_count": null,
      "metadata": {
        "collapsed": false
      },
      "outputs": [],
      "source": [
        "settings = nm_settings.get_default_settings()\nsettings = nm_settings.set_settings_fast_compute(settings)\n\nplayer = nm_mnelsl_generator.LSLOfflinePlayer(\n    raw=raw, stream_name=\"example_stream\"\n)  # TODO: add different keyword\n\nplayer.start_player(chunk_size=30)"
      ]
    },
    {
      "cell_type": "markdown",
      "metadata": {},
      "source": [
        "## Creating the LSLStream object\n\nNext let\u2019s create a Stream analog to the First Demo\u2019s example However as\nwe run the stream, we will set the *lsl-stream* value to True and pass\nthe stream name we earlier declared when initializing the player object\n\n"
      ]
    },
    {
      "cell_type": "code",
      "execution_count": null,
      "metadata": {
        "collapsed": false
      },
      "outputs": [],
      "source": [
        "settings[\"features\"][\"welch\"] = False\nsettings[\"features\"][\"fft\"] = True\nsettings[\"features\"][\"bursts\"] = False\nsettings[\"features\"][\"sharpwave_analysis\"] = False\nsettings[\"features\"][\"coherence\"] = False"
      ]
    },
    {
      "cell_type": "code",
      "execution_count": null,
      "metadata": {
        "collapsed": false
      },
      "outputs": [],
      "source": [
        "stream = nm_stream_offline.Stream(\n    sfreq=sfreq,\n    nm_channels=nm_channels,\n    settings=settings,\n    coord_list=coord_list,\n    verbose=True,\n    line_noise=line_noise,\n)"
      ]
    },
    {
      "cell_type": "markdown",
      "metadata": {},
      "source": [
        "We then simply have to set the `stream_lsl` parameter to be `True` and specify the `stream_lsl_name`.\n\n"
      ]
    },
    {
      "cell_type": "code",
      "execution_count": null,
      "metadata": {
        "collapsed": false
      },
      "outputs": [],
      "source": [
        "features = stream.run(\n    stream_lsl=True,\n    plot_lsl=False,\n    stream_lsl_name=\"example_stream\",\n    out_path_root=PATH_OUT,\n    folder_name=RUN_NAME,\n)"
      ]
    },
    {
      "cell_type": "markdown",
      "metadata": {},
      "source": [
        "We can then look at the computed features and check if the streamed data was processed correctly.\nThis can be verified by the time label:\n\n"
      ]
    },
    {
      "cell_type": "code",
      "execution_count": null,
      "metadata": {
        "collapsed": false
      },
      "outputs": [],
      "source": [
        "plt.plot(features[\"time\"], features[\"MOV_RIGHT\"])"
      ]
    },
    {
      "cell_type": "markdown",
      "metadata": {},
      "source": [
        "## Feature Analysis of Movement\nWe can now check the movement averaged features of an ECoG channel.\nNote that the path was here adapted to be documentation build compliant.\n%%\n\n"
      ]
    },
    {
      "cell_type": "code",
      "execution_count": null,
      "metadata": {
        "collapsed": false
      },
      "outputs": [],
      "source": [
        "feature_reader = nm_analysis.Feature_Reader(feature_dir=PATH_OUT, feature_file=RUN_NAME)\nfeature_reader.label_name = \"MOV_RIGHT\"\nfeature_reader.label = feature_reader.feature_arr[\"MOV_RIGHT\"]\n\nfeature_reader.plot_target_averaged_channel(\n    ch=\"ECOG_RIGHT_0\",\n    list_feature_keywords=None,\n    epoch_len=4,\n    threshold=0.5,\n    ytick_labelsize=7,\n    figsize_x=12,\n    figsize_y=12,\n)"
      ]
    }
  ],
  "metadata": {
    "kernelspec": {
      "display_name": "Python 3",
      "language": "python",
      "name": "python3"
    },
    "language_info": {
      "codemirror_mode": {
        "name": "ipython",
        "version": 3
      },
      "file_extension": ".py",
      "mimetype": "text/x-python",
      "name": "python",
      "nbconvert_exporter": "python",
      "pygments_lexer": "ipython3",
      "version": "3.10.14"
    }
  },
  "nbformat": 4,
  "nbformat_minor": 0
}