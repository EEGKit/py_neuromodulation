{
  "cells": [
    {
      "cell_type": "markdown",
      "metadata": {},
      "source": [
        "\n# Adding New Features \n"
      ]
    },
    {
      "cell_type": "code",
      "execution_count": null,
      "metadata": {
        "collapsed": false
      },
      "outputs": [],
      "source": [
        "import py_neuromodulation as nm\nfrom py_neuromodulation.nm_features import NMFeature\nimport numpy as np\nfrom typing import Iterable"
      ]
    },
    {
      "cell_type": "markdown",
      "metadata": {},
      "source": [
        "In this example we will demonstrate how a new feature can be added to the existing feature pipeline.\nThis can be done simply by adding an object of the inherited :class:`~nm_features_abc.Feature`\nclass to the stream `stream.run_analysis.features.features` list.\n\n"
      ]
    },
    {
      "cell_type": "code",
      "execution_count": null,
      "metadata": {
        "collapsed": false
      },
      "outputs": [],
      "source": [
        "data = np.random.random([1, 1000])\n\nstream = nm.Stream(\n    sfreq=1000,\n    data=data,\n    sampling_rate_features_hz=10,\n    verbose=False,\n)\n\n\nclass NewFeature(NMFeature):\n    def __init__(\n        self, settings: dict, ch_names: Iterable[str], sfreq: float\n    ) -> None:\n        self.s = settings\n        self.ch_names = ch_names\n\n    def calc_feature(self, data: np.ndarray, features_compute: dict) -> dict:\n        for ch_idx, ch in enumerate(self.ch_names):\n            features_compute[f\"new_feature_{ch}\"] = np.mean(data[ch_idx, :])\n\n        return features_compute\n\n    def test_settings():\n        pass\n\n\nnewFeature = NewFeature(\n    stream.settings, list(stream.nm_channels[\"name\"]), stream.sfreq\n)\nstream.run_analysis.features.features.append(newFeature)\n\nfeatures = stream.run_analysis.process(data)\nfeature_name = f\"new_feature_{stream.nm_channels['name'][0]}\"\n\nprint(f\"{feature_name}: {features[feature_name]}\")"
      ]
    },
    {
      "cell_type": "markdown",
      "metadata": {},
      "source": [
        "This example shows a simple newly instantiated feature class called `NewFeature`.\nThe instantiated `newFeature` object could then be added to the existing feature list by calling\n`stream.run_analysis.features.features.append(newFeature)`.\n\nTo permanently add a novel feature, the new feature class needs to be added to\nthe :class:`~nm_features` class. This can be done by inserting the feature_name in\nin the :class:`~nm_features.Feature` init function:\n\n```python\nfor feature in s[\"features\"]:\n    if s[\"features\"][feature] is False:\n        continue\n    match feature:\n        case \"new_feature\":\n            FeatureClass = nm_new_feature.NewFeature\n        ...\n```\nThe new feature class can then be used by setting the `settings[\"feature\"][\"new_feature\"]` value in the\nsettings to true.\n\n\n"
      ]
    }
  ],
  "metadata": {
    "kernelspec": {
      "display_name": "Python 3",
      "language": "python",
      "name": "python3"
    },
    "language_info": {
      "codemirror_mode": {
        "name": "ipython",
        "version": 3
      },
      "file_extension": ".py",
      "mimetype": "text/x-python",
      "name": "python",
      "nbconvert_exporter": "python",
      "pygments_lexer": "ipython3",
      "version": "3.10.14"
    }
  },
  "nbformat": 4,
  "nbformat_minor": 0
}