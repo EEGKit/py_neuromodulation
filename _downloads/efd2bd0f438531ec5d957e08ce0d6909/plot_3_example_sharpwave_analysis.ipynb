{
  "cells": [
    {
      "cell_type": "markdown",
      "metadata": {},
      "source": [
        "\n# Analyzing temporal features\n"
      ]
    },
    {
      "cell_type": "markdown",
      "metadata": {},
      "source": [
        "Time series data can be characterized using oscillatory components, but assumptions of sinusoidality are for real data rarely fulfilled.\nSee *\"Brain Oscillations and the Importance of Waveform Shape\"* [Cole et al 2017](https://doi.org/10.1016/j.tics.2016.12.008) for a great motivation.\nWe implemented here temporal characteristics based on individual trough and peak relations, \nbased on the :meth:~`scipy.signal.find_peaks` method. The function parameter *distance* can be specified in the *nm_settings.json*.\nTemporal features can be calculated twice for troughs and peaks. In the settings, this can be specified by setting *estimate* to true\nin *detect_troughs* and/or *detect_peaks*. A statistical measure (e.g. mean, max, median, var) can be defined as a resulting feature from the peak and \ntrough estimates using the *apply_estimator_between_peaks_and_troughs* setting.\n\nIn py_neuromodulation the following characteristics are implemented:\n\n<div class=\"alert alert-info\"><h4>Note</h4><p>The nomenclature is written here for sharpwave troughs, but detection of peak characteristics can be computed in the same way.</p></div>\n\n-  prominence:\n   $V_{prominence} = |\\frac{V_{peak-left} + V_{peak-right}}{2}| - V_{trough}$\n-  sharpness:\n   $V_{sharpnesss} = \\frac{(V_{trough} - V_{trough-5 ms}) + (V_{trough} - V_{trough+5 ms})}{2}$\n-  rise and decay rise time\n-  rise and decay steepness\n-  width (between left and right peaks)\n-  interval (between troughs)\n\nAdditionally, different filter ranges can be parametrized using the *filter_ranges_hz* setting.\nFiltering is necessary to remove high frequent signal fluctuations, but limits also the true estimation of sharpness and prominence due to signal smoothing.\n\n"
      ]
    },
    {
      "cell_type": "code",
      "execution_count": null,
      "metadata": {
        "collapsed": false
      },
      "outputs": [],
      "source": [
        "import seaborn as sb\nfrom matplotlib import pyplot as plt\nfrom scipy import signal\nimport numpy as np\n\nimport py_neuromodulation as nm\nfrom py_neuromodulation import (\n    nm_define_nmchannels,\n    nm_IO,\n    nm_settings,\n)"
      ]
    },
    {
      "cell_type": "markdown",
      "metadata": {},
      "source": [
        "We will first read the example ECoG data and plot the identified features on the filtered time series. \n\n"
      ]
    },
    {
      "cell_type": "code",
      "execution_count": null,
      "metadata": {
        "collapsed": false
      },
      "outputs": [],
      "source": [
        "RUN_NAME, PATH_RUN, PATH_BIDS, PATH_OUT, datatype = nm_IO.get_paths_example_data()\n\n(\n    raw,\n    data,\n    sfreq,\n    line_noise,\n    coord_list,\n    coord_names,\n) = nm_IO.read_BIDS_data(\n        PATH_RUN=PATH_RUN\n)"
      ]
    },
    {
      "cell_type": "code",
      "execution_count": null,
      "metadata": {
        "collapsed": false
      },
      "outputs": [],
      "source": [
        "settings = nm_settings.get_default_settings()\nsettings = nm_settings.set_settings_fast_compute(settings)\n\nsettings[\"features\"][\"fft\"] = True\nsettings[\"features\"][\"bursts\"] = False\nsettings[\"features\"][\"sharpwave_analysis\"] = True\nsettings[\"features\"][\"coherence\"] = False\n\nsettings[\"sharpwave_analysis_settings\"][\"estimator\"][\"mean\"] = []\nfor sw_feature in list(\n    settings[\"sharpwave_analysis_settings\"][\"sharpwave_features\"].keys()\n):\n    settings[\"sharpwave_analysis_settings\"][\"sharpwave_features\"][sw_feature] = True\n    settings[\"sharpwave_analysis_settings\"][\"estimator\"][\"mean\"].append(sw_feature)\n\nnm_channels = nm_define_nmchannels.set_channels(\n    ch_names=raw.ch_names,\n    ch_types=raw.get_channel_types(),\n    reference=\"default\",\n    bads=raw.info[\"bads\"],\n    new_names=\"default\",\n    used_types=(\"ecog\", \"dbs\", \"seeg\"),\n    target_keywords=[\"MOV_RIGHT\"]\n)\n\nstream = nm.Stream(\n    sfreq=sfreq,\n    nm_channels=nm_channels,\n    settings=settings,\n    line_noise=line_noise,\n    coord_list=coord_list,\n    coord_names=coord_names,\n    verbose=False,\n)\nsw_analyzer = stream.run_analysis.features.features[1]"
      ]
    },
    {
      "cell_type": "markdown",
      "metadata": {},
      "source": [
        "The plotted example time series, visualized on a short time scale, shows the relation of identified peaks, troughs, and estimated features:\n\n"
      ]
    },
    {
      "cell_type": "code",
      "execution_count": null,
      "metadata": {
        "collapsed": false
      },
      "outputs": [],
      "source": [
        "data_plt = data[5, 1000:4000]\n\n\nsw_analyzer._initialize_sw_features()\nfiltered_dat = np.convolve(\n    data_plt,\n    sw_analyzer.list_filter[0][1],\n    mode=\"same\"\n)\n#filtered_dat = filtered_dat[500:-500]\n\ntroughs = signal.find_peaks(-filtered_dat, distance=10)[0]\npeaks = signal.find_peaks(filtered_dat, distance=5)[0]\n\nsw_analyzer.data_process_sw = filtered_dat\nsw_analyzer.analyze_waveform()\n\nWIDTH = BAR_WIDTH = 4\nBAR_OFFSET = 50\nOFFSET_TIME_SERIES = -100\nSCALE_TIMESERIES = 1\n\nhue_colors = sb.color_palette(\"viridis_r\", 6)\n\nplt.figure(figsize=(5, 3), dpi=300)\nplt.plot(OFFSET_TIME_SERIES + data_plt, color=\"gray\", linewidth=0.5, alpha=0.5, label=\"original ECoG data\")\nplt.plot(OFFSET_TIME_SERIES + filtered_dat*SCALE_TIMESERIES, linewidth=0.5, color=\"black\", label=\"[5-30]Hz filtered data\")\n\nplt.plot(peaks, OFFSET_TIME_SERIES + filtered_dat[peaks]*SCALE_TIMESERIES, \"x\", label=\"peaks\",markersize=3, color=\"darkgray\")\nplt.plot(troughs, OFFSET_TIME_SERIES + filtered_dat[troughs]*SCALE_TIMESERIES, \"x\", label=\"troughs\", markersize=3, color=\"lightgray\")\n\nplt.bar(troughs+BAR_WIDTH, np.array(sw_analyzer.prominence)*4, bottom=BAR_OFFSET, width=WIDTH, color=hue_colors[0], label=\"Prominence\", alpha=0.5)\nplt.bar(troughs+BAR_WIDTH*2, -np.array(sw_analyzer.sharpness)*6, bottom=BAR_OFFSET, width=WIDTH, color=hue_colors[1], label=\"Sharpness\", alpha=0.5)\nplt.bar(troughs+BAR_WIDTH*3, np.array(sw_analyzer.interval)*5, bottom=BAR_OFFSET, width=WIDTH, color=hue_colors[2], label=\"Interval\", alpha=0.5)\nplt.bar(troughs+BAR_WIDTH*4, np.array(sw_analyzer.rise_time)*5, bottom=BAR_OFFSET, width=WIDTH, color=hue_colors[3], label=\"Rise time\", alpha=0.5)\n\nplt.xticks(np.arange(0, data_plt.shape[0], 200), np.round(np.arange(0, int(data_plt.shape[0]/1000), 0.2), 2))\nplt.xlabel(\"Time [s]\")\nplt.title(\"Temporal waveform shape features\")\nplt.legend(loc='center left', bbox_to_anchor=(1, 0.5))\nplt.ylim(-550, 700)\nplt.xlim(0, 200)\nplt.ylabel(\"a.u.\")\nplt.tight_layout()"
      ]
    },
    {
      "cell_type": "markdown",
      "metadata": {},
      "source": [
        "See in the following example a time series example, that is aligned to movement. With movement onset the prominence, sharpness, and interval features are reduced:\n\n"
      ]
    },
    {
      "cell_type": "code",
      "execution_count": null,
      "metadata": {
        "collapsed": false
      },
      "outputs": [],
      "source": [
        "plt.figure(figsize=(8, 5), dpi=300)\nplt.plot(OFFSET_TIME_SERIES + data_plt, color=\"gray\", linewidth=0.5, alpha=0.5, label=\"original ECoG data\")\nplt.plot(OFFSET_TIME_SERIES + filtered_dat*SCALE_TIMESERIES, linewidth=0.5, color=\"black\", label=\"[5-30]Hz filtered data\")\n\nplt.plot(peaks, OFFSET_TIME_SERIES + filtered_dat[peaks]*SCALE_TIMESERIES, \"x\", label=\"peaks\",markersize=3, color=\"darkgray\")\nplt.plot(troughs, OFFSET_TIME_SERIES + filtered_dat[troughs]*SCALE_TIMESERIES, \"x\", label=\"troughs\", markersize=3, color=\"lightgray\")\n\nplt.bar(troughs+BAR_WIDTH, np.array(sw_analyzer.prominence)*4, bottom=BAR_OFFSET, width=WIDTH, color=hue_colors[0], label=\"Prominence\", alpha=0.5)\nplt.bar(troughs+BAR_WIDTH*2, -np.array(sw_analyzer.sharpness)*6, bottom=BAR_OFFSET, width=WIDTH, color=hue_colors[1], label=\"Sharpness\", alpha=0.5)\nplt.bar(troughs+BAR_WIDTH*3, np.array(sw_analyzer.interval)*5, bottom=BAR_OFFSET, width=WIDTH, color=hue_colors[2], label=\"Interval\", alpha=0.5)\nplt.bar(troughs+BAR_WIDTH*4, np.array(sw_analyzer.rise_time)*5, bottom=BAR_OFFSET, width=WIDTH, color=hue_colors[3], label=\"Rise time\", alpha=0.5)\n\nplt.axvline(x=1500, label=\"Movement start\", color=\"red\")\n\n#plt.xticks(np.arange(0, 2000, 200), np.round(np.arange(0, 2, 0.2), 2))\nplt.xticks(np.arange(0, data_plt.shape[0], 200), np.round(np.arange(0, int(data_plt.shape[0]/1000), 0.2), 2))\nplt.xlabel(\"Time [s]\")\nplt.title(\"Temporal waveform shape features\")\nplt.legend(loc='center left', bbox_to_anchor=(1, 0.5))\nplt.ylim(-450, 400)\nplt.ylabel(\"a.u.\")\nplt.tight_layout()"
      ]
    },
    {
      "cell_type": "markdown",
      "metadata": {},
      "source": [
        "In the *sharpwave_analysis_settings* the *estimator* keyword further specifies which statistic is computed based on the individual\nfeatures in one batch. The \"global\" setting *segment_length_features_ms* specifies the time duration for feature computation.\nSince there can be a different number of identified waveform shape features for different batches (i.e. different number of peaks/troughs),\ntaking a statistical measure (e.g. the maximum or mean) will be necessary for feature comparison. \n\n"
      ]
    },
    {
      "cell_type": "markdown",
      "metadata": {},
      "source": [
        "## Example time series computation for movement decoding\nWe will now read the ECoG example/data and investigate if samples differ across movement states. Therefore we compute features and enable the default *sharpwave* features.  \n\n"
      ]
    },
    {
      "cell_type": "code",
      "execution_count": null,
      "metadata": {
        "collapsed": false
      },
      "outputs": [],
      "source": [
        "settings = nm_settings.get_default_settings()\nsettings = nm_settings.reset_settings(settings)\nsettings[\"features\"][\"sharpwave_analysis\"] = True\nsettings[\"sharpwave_analysis_settings\"][\"interval\"] = False\nsettings[\"sharpwave_analysis_settings\"][\"filter_ranges\"] = [[5, 80]]\n\nnm_channels[\"used\"] = 0  # set only two ECoG channels for faster computation to true\nnm_channels.loc[[3, 8], \"used\"] = 1\n\nstream = nm.Stream(\n    sfreq=sfreq,\n    nm_channels=nm_channels,\n    settings=settings,\n    line_noise=line_noise,\n    coord_list=coord_list,\n    coord_names=coord_names,\n    verbose=True,\n)\n\ndf_features = stream.run(data=data[:, :30000])"
      ]
    },
    {
      "cell_type": "markdown",
      "metadata": {},
      "source": [
        "We can then plot two exemplary features, prominence and interval, and see that the movement amplitude can be clustered with those two features alone:\n\n"
      ]
    },
    {
      "cell_type": "code",
      "execution_count": null,
      "metadata": {
        "collapsed": false
      },
      "outputs": [],
      "source": [
        "plt.figure(figsize=(5, 3), dpi=300)\nplt.scatter(\n    df_features[\"ECOG_RIGHT_0-avgref_Sharpwave_Max_prominence_range_5_80\"],\n    df_features[\"ECOG_RIGHT_5-avgref_Sharpwave_Mean_interval_range_5_80\"],\n    c=df_features[\"MOV_RIGHT\"], alpha=0.8, s=30\n)\ncbar = plt.colorbar()\ncbar.set_label(\"Movement amplitude\")\nplt.xlabel(\"Prominence a.u.\")\nplt.ylabel(\"Interval a.u.\")\nplt.title(\"Temporal features predict movement amplitude\")\nplt.tight_layout()"
      ]
    }
  ],
  "metadata": {
    "kernelspec": {
      "display_name": "Python 3",
      "language": "python",
      "name": "python3"
    },
    "language_info": {
      "codemirror_mode": {
        "name": "ipython",
        "version": 3
      },
      "file_extension": ".py",
      "mimetype": "text/x-python",
      "name": "python",
      "nbconvert_exporter": "python",
      "pygments_lexer": "ipython3",
      "version": "3.10.14"
    }
  },
  "nbformat": 4,
  "nbformat_minor": 0
}