{
 "cells": [
  {
   "cell_type": "code",
   "execution_count": 2,
   "metadata": {},
   "outputs": [],
   "source": [
    "from sklearn.linear_model import LinearRegression\n",
    "\n",
    "lr = LinearRegression()"
   ]
  },
  {
   "cell_type": "code",
   "execution_count": 4,
   "metadata": {},
   "outputs": [
    {
     "name": "stdout",
     "output_type": "stream",
     "text": [
      "Method=__getstate__, filename=c:\\dev\\py_neuromodulation\\.venv_windows\\Lib\\site-packages\\sklearn\\base.py, line number=350\n",
      "Method=__init__, filename=c:\\dev\\py_neuromodulation\\.venv_windows\\Lib\\site-packages\\sklearn\\linear_model\\_base.py, line number=568\n",
      "Method=__init_subclass__, filename=c:\\dev\\py_neuromodulation\\.venv_windows\\Lib\\site-packages\\sklearn\\utils\\_metadata_requests.py, line number=1357\n",
      "Method=__repr__, filename=c:\\dev\\py_neuromodulation\\.venv_windows\\Lib\\site-packages\\sklearn\\base.py, line number=298\n",
      "Method=__setstate__, filename=c:\\dev\\py_neuromodulation\\.venv_windows\\Lib\\site-packages\\sklearn\\base.py, line number=372\n",
      "Method=__sklearn_clone__, filename=c:\\dev\\py_neuromodulation\\.venv_windows\\Lib\\site-packages\\sklearn\\base.py, line number=295\n",
      "Method=_build_request_for_signature, filename=c:\\dev\\py_neuromodulation\\.venv_windows\\Lib\\site-packages\\sklearn\\utils\\_metadata_requests.py, line number=1395\n",
      "Method=_check_feature_names, filename=c:\\dev\\py_neuromodulation\\.venv_windows\\Lib\\site-packages\\sklearn\\base.py, line number=448\n",
      "Method=_check_n_features, filename=c:\\dev\\py_neuromodulation\\.venv_windows\\Lib\\site-packages\\sklearn\\base.py, line number=402\n",
      "Method=_decision_function, filename=c:\\dev\\py_neuromodulation\\.venv_windows\\Lib\\site-packages\\sklearn\\linear_model\\_base.py, line number=282\n",
      "Method=_get_default_requests, filename=c:\\dev\\py_neuromodulation\\.venv_windows\\Lib\\site-packages\\sklearn\\utils\\_metadata_requests.py, line number=1433\n",
      "Method=_get_doc_link, filename=c:\\dev\\py_neuromodulation\\.venv_windows\\Lib\\site-packages\\sklearn\\utils\\_estimator_html_repr.py, line number=464\n",
      "Method=_get_metadata_request, filename=c:\\dev\\py_neuromodulation\\.venv_windows\\Lib\\site-packages\\sklearn\\utils\\_metadata_requests.py, line number=1477\n",
      "Method=_get_param_names, filename=c:\\dev\\py_neuromodulation\\.venv_windows\\Lib\\site-packages\\sklearn\\base.py, line number=196\n",
      "Method=_get_tags, filename=c:\\dev\\py_neuromodulation\\.venv_windows\\Lib\\site-packages\\sklearn\\base.py, line number=391\n",
      "Method=_more_tags, filename=c:\\dev\\py_neuromodulation\\.venv_windows\\Lib\\site-packages\\sklearn\\base.py, line number=1347\n",
      "Method=_repr_html_, filename=c:\\dev\\py_neuromodulation\\.venv_windows\\Lib\\site-packages\\sklearn\\base.py, line number=688\n",
      "Method=_repr_html_inner, filename=c:\\dev\\py_neuromodulation\\.venv_windows\\Lib\\site-packages\\sklearn\\base.py, line number=688\n",
      "Method=_repr_mimebundle_, filename=c:\\dev\\py_neuromodulation\\.venv_windows\\Lib\\site-packages\\sklearn\\base.py, line number=695\n",
      "Method=_set_intercept, filename=c:\\dev\\py_neuromodulation\\.venv_windows\\Lib\\site-packages\\sklearn\\linear_model\\_base.py, line number=308\n",
      "Method=_validate_data, filename=c:\\dev\\py_neuromodulation\\.venv_windows\\Lib\\site-packages\\sklearn\\base.py, line number=537\n",
      "Method=_validate_params, filename=c:\\dev\\py_neuromodulation\\.venv_windows\\Lib\\site-packages\\sklearn\\base.py, line number=658\n",
      "Method=fit, filename=c:\\dev\\py_neuromodulation\\.venv_windows\\Lib\\site-packages\\sklearn\\base.py, line number=1456\n",
      "Method=get_metadata_routing, filename=c:\\dev\\py_neuromodulation\\.venv_windows\\Lib\\site-packages\\sklearn\\utils\\_metadata_requests.py, line number=1495\n",
      "Method=get_params, filename=c:\\dev\\py_neuromodulation\\.venv_windows\\Lib\\site-packages\\sklearn\\base.py, line number=227\n",
      "Method=predict, filename=c:\\dev\\py_neuromodulation\\.venv_windows\\Lib\\site-packages\\sklearn\\linear_model\\_base.py, line number=292\n",
      "Method=score, filename=c:\\dev\\py_neuromodulation\\.venv_windows\\Lib\\site-packages\\sklearn\\base.py, line number=805\n",
      "Method=set_params, filename=c:\\dev\\py_neuromodulation\\.venv_windows\\Lib\\site-packages\\sklearn\\base.py, line number=251\n"
     ]
    }
   ],
   "source": [
    "import inspect\n",
    "for name, value in inspect.getmembers(lr, inspect.ismethod):\n",
    "    print(f'Method={name}, filename={value.__code__.co_filename}, line number={value.__code__.co_firstlineno}')"
   ]
  }
 ],
 "metadata": {
  "kernelspec": {
   "display_name": ".venv_windows",
   "language": "python",
   "name": "python3"
  },
  "language_info": {
   "codemirror_mode": {
    "name": "ipython",
    "version": 3
   },
   "file_extension": ".py",
   "mimetype": "text/x-python",
   "name": "python",
   "nbconvert_exporter": "python",
   "pygments_lexer": "ipython3",
   "version": "3.12.2"
  }
 },
 "nbformat": 4,
 "nbformat_minor": 2
}
