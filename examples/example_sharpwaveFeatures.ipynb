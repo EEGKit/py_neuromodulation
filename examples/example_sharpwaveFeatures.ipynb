{
 "cells": [
  {
   "cell_type": "markdown",
   "metadata": {
    "collapsed": true,
    "pycharm": {
     "name": "#%% md\n"
    }
   },
   "source": [
    "What to do:\n",
    "\n",
    "Needs to be done for one batch of data just like in the FeatureEstimationDemo.\n",
    "\n",
    "Reproduce plot from FeatureEstimationDemo. Also as extension I take Berlin dataset and take sharpwave features that are now calculated and build a classifier for movement with only sharpwave information.\n",
    "Use different filter ranges and see how stuff changes.\n",
    "\n",
    "Explain the estimators. Apply_estimator_between_peaks and_troughs -> max (peaks/troughs) or whatever other estimators."
   ]
  },
  {
   "cell_type": "code",
   "execution_count": 1,
   "outputs": [],
   "source": [
    "import os\n",
    "import sys\n",
    "\n",
    "# change root directory of the project\n",
    "SCRIPT_DIR = os.path.dirname(os.path.abspath(''))\n",
    "if os.path.basename(SCRIPT_DIR) == \"py_neuromodulation\":\n",
    "    # this check is necessary, so we can also run the script from the root directory\n",
    "    SCRIPT_DIR = os.path.join(SCRIPT_DIR, \"examples\")\n",
    "\n",
    "sys.path.append(os.path.dirname(SCRIPT_DIR))\n",
    "\n",
    "# Reload imports to get changes in other scripts\n",
    "%load_ext autoreload\n",
    "%autoreload 2"
   ],
   "metadata": {
    "collapsed": false,
    "pycharm": {
     "name": "#%%\n"
    }
   }
  },
  {
   "cell_type": "code",
   "execution_count": 2,
   "outputs": [],
   "source": [
    "import py_neuromodulation as nm\n",
    "from py_neuromodulation import (\n",
    "    nm_analysis,\n",
    "    nm_decode,\n",
    "    nm_define_nmchannels,\n",
    "    nm_IO,\n",
    "    nm_plots,\n",
    ")\n",
    "from sklearn import metrics, model_selection\n",
    "from skopt import space as skopt_space\n",
    "from scipy import io\n",
    "import numpy as np\n",
    "import matplotlib.pyplot as plt"
   ],
   "metadata": {
    "collapsed": false,
    "pycharm": {
     "name": "#%%\n"
    }
   }
  },
  {
   "cell_type": "markdown",
   "source": [
    "## Read BIDS data\n",
    "\n",
    "For an example with simulated data and/or in a different format, please look into example_SimulatedData"
   ],
   "metadata": {
    "collapsed": false
   }
  },
  {
   "cell_type": "code",
   "execution_count": 3,
   "outputs": [
    {
     "data": {
      "text/plain": "'/home/lauraflyra/Documents/BCCN/Lab_Rotation_DBS_Decoding/Code/py_neuromodulation/examples'"
     },
     "execution_count": 3,
     "metadata": {},
     "output_type": "execute_result"
    }
   ],
   "source": [
    "SCRIPT_DIR"
   ],
   "metadata": {
    "collapsed": false,
    "pycharm": {
     "name": "#%%\n"
    }
   }
  },
  {
   "cell_type": "code",
   "execution_count": 4,
   "outputs": [
    {
     "name": "stdout",
     "output_type": "stream",
     "text": [
      "Extracting parameters from /home/lauraflyra/Documents/BCCN/Lab_Rotation_DBS_Decoding/Code/py_neuromodulation/examples/data/sub-testsub/ses-EphysMedOff/ieeg/sub-testsub_ses-EphysMedOff_task-buttonpress_run-0_ieeg.vhdr...\n",
      "Setting channel info structure...\n",
      "Reading channel info from /home/lauraflyra/Documents/BCCN/Lab_Rotation_DBS_Decoding/Code/py_neuromodulation/examples/data/sub-testsub/ses-EphysMedOff/ieeg/sub-testsub_ses-EphysMedOff_task-buttonpress_run-0_channels.tsv.\n",
      "Reading electrode coords from /home/lauraflyra/Documents/BCCN/Lab_Rotation_DBS_Decoding/Code/py_neuromodulation/examples/data/sub-testsub/ses-EphysMedOff/ieeg/sub-testsub_ses-EphysMedOff_acq-StimOff_space-mni_electrodes.tsv.\n"
     ]
    }
   ],
   "source": [
    "sub = \"testsub\"\n",
    "ses = \"EphysMedOff\"\n",
    "task = \"buttonpress\"\n",
    "run = 0\n",
    "datatype = \"ieeg\"\n",
    "\n",
    "# Define run name and access paths in the BIDS format.\n",
    "RUN_NAME = f\"sub-{sub}_ses-{ses}_task-{task}_run-{run}\"\n",
    "\n",
    "PATH_RUN = os.path.join(\n",
    "    (os.path.join(SCRIPT_DIR, \"data\")),\n",
    "    f\"sub-{sub}\",\n",
    "    f\"ses-{ses}\",\n",
    "    datatype,\n",
    "    RUN_NAME,\n",
    ")\n",
    "PATH_BIDS = os.path.join(SCRIPT_DIR, \"data\")\n",
    "\n",
    "# Provide a path for the output data.\n",
    "PATH_OUT = os.path.join(SCRIPT_DIR, \"data\", \"derivatives\")\n",
    "\n",
    "(\n",
    "    raw,\n",
    "    data,\n",
    "    sfreq,\n",
    "    line_noise,\n",
    "    coord_list,\n",
    "    coord_names,\n",
    ") = nm_IO.read_BIDS_data(\n",
    "    PATH_RUN=PATH_RUN, BIDS_PATH=PATH_BIDS, datatype=datatype\n",
    ")"
   ],
   "metadata": {
    "collapsed": false,
    "pycharm": {
     "name": "#%%\n"
    }
   }
  },
  {
   "cell_type": "code",
   "execution_count": 5,
   "outputs": [],
   "source": [
    "nm_channels = nm_define_nmchannels.set_channels(\n",
    "    ch_names=raw.ch_names,\n",
    "    ch_types=raw.get_channel_types(),\n",
    "    reference=\"default\",\n",
    "    bads=raw.info[\"bads\"],\n",
    "    new_names=\"default\",\n",
    "    used_types=(\"ecog\", \"dbs\", \"seeg\"),\n",
    "    target_keywords=(\"SQUARED_ROTATION\",),\n",
    ")"
   ],
   "metadata": {
    "collapsed": false,
    "pycharm": {
     "name": "#%%\n"
    }
   }
  },
  {
   "cell_type": "markdown",
   "source": [
    "## Settings for Feature Estimation"
   ],
   "metadata": {
    "collapsed": false
   }
  },
  {
   "cell_type": "code",
   "execution_count": 6,
   "outputs": [],
   "source": [
    "stream = nm.Stream(\n",
    "    settings=None,\n",
    "    nm_channels=nm_channels,\n",
    "    path_grids=None,\n",
    "    verbose=True,\n",
    ")"
   ],
   "metadata": {
    "collapsed": false,
    "pycharm": {
     "name": "#%%\n"
    }
   }
  },
  {
   "cell_type": "code",
   "execution_count": 7,
   "outputs": [],
   "source": [
    "stream.reset_settings()\n",
    "stream.set_settings_fast_compute()"
   ],
   "metadata": {
    "collapsed": false,
    "pycharm": {
     "name": "#%%\n"
    }
   }
  },
  {
   "cell_type": "markdown",
   "source": [
    "## Feature Estimation\n",
    "And then we run the analysis:"
   ],
   "metadata": {
    "collapsed": false
   }
  },
  {
   "cell_type": "code",
   "execution_count": 8,
   "outputs": [
    {
     "name": "stdout",
     "output_type": "stream",
     "text": [
      "No Error occurred when testing the settings.\n",
      "No data specified. Sanity checks related to the length of the signal relative to the filter order will be skipped.\n",
      "Setting up band-stop filter\n",
      "\n",
      "FIR filter parameters\n",
      "---------------------\n",
      "Designing a one-pass, zero-phase, non-causal bandstop filter:\n",
      "- Windowed time-domain design (firwin) method\n",
      "- Hamming window with 0.0194 passband ripple and 53 dB stopband attenuation\n",
      "- Lower transition bandwidth: 7.50 Hz\n",
      "- Upper transition bandwidth: 7.50 Hz\n",
      "- Filter length: 999 samples (0.999 sec)\n",
      "\n",
      "Last batch took: 0.01 seconds\n",
      "1.0 seconds of data processed\n",
      "Last batch took: 0.01 seconds\n",
      "1.1 seconds of data processed\n",
      "Last batch took: 0.01 seconds\n",
      "1.2 seconds of data processed\n",
      "Last batch took: 0.01 seconds\n",
      "1.3 seconds of data processed\n",
      "Last batch took: 0.01 seconds\n",
      "1.4 seconds of data processed\n",
      "Last batch took: 0.01 seconds\n",
      "1.5 seconds of data processed\n",
      "Last batch took: 0.01 seconds\n",
      "1.6 seconds of data processed\n",
      "Last batch took: 0.01 seconds\n",
      "1.7 seconds of data processed\n",
      "Last batch took: 0.01 seconds\n",
      "1.8 seconds of data processed\n",
      "Last batch took: 0.01 seconds\n",
      "1.9 seconds of data processed\n",
      "Last batch took: 0.01 seconds\n",
      "2.0 seconds of data processed\n",
      "Last batch took: 0.01 seconds\n",
      "2.1 seconds of data processed\n",
      "Last batch took: 0.01 seconds\n",
      "2.2 seconds of data processed\n",
      "Last batch took: 0.01 seconds\n",
      "2.3 seconds of data processed\n",
      "Last batch took: 0.01 seconds\n",
      "2.4 seconds of data processed\n",
      "Last batch took: 0.01 seconds\n",
      "2.5 seconds of data processed\n",
      "Last batch took: 0.01 seconds\n",
      "2.6 seconds of data processed\n",
      "Last batch took: 0.01 seconds\n",
      "2.7 seconds of data processed\n",
      "Last batch took: 0.01 seconds\n",
      "2.8 seconds of data processed\n",
      "Last batch took: 0.01 seconds\n",
      "2.9 seconds of data processed\n",
      "Last batch took: 0.01 seconds\n",
      "3.0 seconds of data processed\n",
      "Last batch took: 0.01 seconds\n",
      "3.1 seconds of data processed\n",
      "Last batch took: 0.01 seconds\n",
      "3.2 seconds of data processed\n",
      "Last batch took: 0.01 seconds\n",
      "3.3 seconds of data processed\n",
      "Last batch took: 0.01 seconds\n",
      "3.4 seconds of data processed\n",
      "Last batch took: 0.01 seconds\n",
      "3.5 seconds of data processed\n",
      "Last batch took: 0.01 seconds\n",
      "3.6 seconds of data processed\n",
      "Last batch took: 0.01 seconds\n",
      "3.7 seconds of data processed\n",
      "Last batch took: 0.01 seconds\n",
      "3.8 seconds of data processed\n",
      "Last batch took: 0.01 seconds\n",
      "3.9 seconds of data processed\n",
      "Last batch took: 0.01 seconds\n",
      "4.0 seconds of data processed\n",
      "Last batch took: 0.01 seconds\n",
      "4.1 seconds of data processed\n",
      "Last batch took: 0.01 seconds\n",
      "4.2 seconds of data processed\n",
      "Last batch took: 0.01 seconds\n",
      "4.3 seconds of data processed\n",
      "Last batch took: 0.01 seconds\n",
      "4.4 seconds of data processed\n",
      "Last batch took: 0.01 seconds\n",
      "4.5 seconds of data processed\n",
      "Last batch took: 0.01 seconds\n",
      "4.6 seconds of data processed\n",
      "Last batch took: 0.01 seconds\n",
      "4.7 seconds of data processed\n",
      "Last batch took: 0.01 seconds\n",
      "4.8 seconds of data processed\n",
      "Last batch took: 0.01 seconds\n",
      "4.9 seconds of data processed\n",
      "Last batch took: 0.01 seconds\n",
      "5.0 seconds of data processed\n",
      "Last batch took: 0.01 seconds\n",
      "5.1 seconds of data processed\n",
      "Last batch took: 0.01 seconds\n",
      "5.2 seconds of data processed\n",
      "Last batch took: 0.01 seconds\n",
      "5.3 seconds of data processed\n",
      "Last batch took: 0.01 seconds\n",
      "5.4 seconds of data processed\n",
      "Last batch took: 0.01 seconds\n",
      "5.5 seconds of data processed\n",
      "Last batch took: 0.01 seconds\n",
      "5.6 seconds of data processed\n",
      "Last batch took: 0.01 seconds\n",
      "5.7 seconds of data processed\n",
      "Last batch took: 0.01 seconds\n",
      "5.8 seconds of data processed\n",
      "Last batch took: 0.01 seconds\n",
      "5.9 seconds of data processed\n",
      "Last batch took: 0.01 seconds\n",
      "6.0 seconds of data processed\n",
      "Last batch took: 0.01 seconds\n",
      "6.1 seconds of data processed\n",
      "Last batch took: 0.01 seconds\n",
      "6.2 seconds of data processed\n",
      "Last batch took: 0.01 seconds\n",
      "6.3 seconds of data processed\n",
      "Last batch took: 0.01 seconds\n",
      "6.4 seconds of data processed\n",
      "Last batch took: 0.01 seconds\n",
      "6.5 seconds of data processed\n",
      "Last batch took: 0.01 seconds\n",
      "6.6 seconds of data processed\n",
      "Last batch took: 0.01 seconds\n",
      "6.7 seconds of data processed\n",
      "Last batch took: 0.01 seconds\n",
      "6.8 seconds of data processed\n",
      "Last batch took: 0.01 seconds\n",
      "6.9 seconds of data processed\n",
      "Last batch took: 0.01 seconds\n",
      "7.0 seconds of data processed\n",
      "Last batch took: 0.01 seconds\n",
      "7.1 seconds of data processed\n",
      "Last batch took: 0.01 seconds\n",
      "7.2 seconds of data processed\n",
      "Last batch took: 0.01 seconds\n",
      "7.3 seconds of data processed\n",
      "Last batch took: 0.01 seconds\n",
      "7.4 seconds of data processed\n",
      "Last batch took: 0.01 seconds\n",
      "7.5 seconds of data processed\n",
      "Last batch took: 0.01 seconds\n",
      "7.6 seconds of data processed\n",
      "Last batch took: 0.01 seconds\n",
      "7.7 seconds of data processed\n",
      "Last batch took: 0.01 seconds\n",
      "7.8 seconds of data processed\n",
      "Last batch took: 0.01 seconds\n",
      "7.9 seconds of data processed\n",
      "Last batch took: 0.01 seconds\n",
      "8.0 seconds of data processed\n",
      "Last batch took: 0.01 seconds\n",
      "8.1 seconds of data processed\n",
      "Last batch took: 0.01 seconds\n",
      "8.2 seconds of data processed\n",
      "Last batch took: 0.01 seconds\n",
      "8.3 seconds of data processed\n",
      "Last batch took: 0.01 seconds\n",
      "8.4 seconds of data processed\n",
      "Last batch took: 0.01 seconds\n",
      "8.5 seconds of data processed\n",
      "Last batch took: 0.01 seconds\n",
      "8.6 seconds of data processed\n",
      "Last batch took: 0.01 seconds\n",
      "8.7 seconds of data processed\n",
      "Last batch took: 0.01 seconds\n",
      "8.8 seconds of data processed\n",
      "Last batch took: 0.01 seconds\n",
      "8.9 seconds of data processed\n",
      "Last batch took: 0.01 seconds\n",
      "9.0 seconds of data processed\n",
      "Last batch took: 0.01 seconds\n",
      "9.1 seconds of data processed\n",
      "Last batch took: 0.01 seconds\n",
      "9.2 seconds of data processed\n",
      "Last batch took: 0.01 seconds\n",
      "9.3 seconds of data processed\n",
      "Last batch took: 0.01 seconds\n",
      "9.4 seconds of data processed\n",
      "Last batch took: 0.01 seconds\n",
      "9.5 seconds of data processed\n",
      "Last batch took: 0.01 seconds\n",
      "9.6 seconds of data processed\n",
      "Last batch took: 0.01 seconds\n",
      "9.7 seconds of data processed\n",
      "Last batch took: 0.01 seconds\n",
      "9.8 seconds of data processed\n",
      "Last batch took: 0.01 seconds\n",
      "9.9 seconds of data processed\n",
      "Last batch took: 0.01 seconds\n",
      "10.0 seconds of data processed\n",
      "Last batch took: 0.01 seconds\n",
      "10.1 seconds of data processed\n",
      "Last batch took: 0.01 seconds\n",
      "10.2 seconds of data processed\n",
      "Last batch took: 0.01 seconds\n",
      "10.3 seconds of data processed\n",
      "Last batch took: 0.01 seconds\n",
      "10.4 seconds of data processed\n",
      "Last batch took: 0.01 seconds\n",
      "10.5 seconds of data processed\n",
      "Last batch took: 0.01 seconds\n",
      "10.6 seconds of data processed\n",
      "Last batch took: 0.01 seconds\n",
      "10.7 seconds of data processed\n",
      "Last batch took: 0.01 seconds\n",
      "10.8 seconds of data processed\n",
      "Last batch took: 0.01 seconds\n",
      "10.9 seconds of data processed\n",
      "Last batch took: 0.01 seconds\n",
      "11.0 seconds of data processed\n",
      "Last batch took: 0.01 seconds\n",
      "11.1 seconds of data processed\n",
      "Last batch took: 0.01 seconds\n",
      "11.2 seconds of data processed\n",
      "Last batch took: 0.01 seconds\n",
      "11.3 seconds of data processed\n",
      "Last batch took: 0.01 seconds\n",
      "11.4 seconds of data processed\n",
      "Last batch took: 0.01 seconds\n",
      "11.5 seconds of data processed\n",
      "Last batch took: 0.01 seconds\n",
      "11.6 seconds of data processed\n",
      "Last batch took: 0.01 seconds\n",
      "11.7 seconds of data processed\n",
      "Last batch took: 0.01 seconds\n",
      "11.8 seconds of data processed\n",
      "Last batch took: 0.01 seconds\n",
      "11.9 seconds of data processed\n",
      "Last batch took: 0.01 seconds\n",
      "12.0 seconds of data processed\n",
      "Last batch took: 0.01 seconds\n",
      "12.1 seconds of data processed\n",
      "Last batch took: 0.01 seconds\n",
      "12.2 seconds of data processed\n",
      "Last batch took: 0.01 seconds\n",
      "12.3 seconds of data processed\n",
      "Last batch took: 0.01 seconds\n",
      "12.4 seconds of data processed\n",
      "Last batch took: 0.01 seconds\n",
      "12.5 seconds of data processed\n",
      "Last batch took: 0.01 seconds\n",
      "12.6 seconds of data processed\n",
      "Last batch took: 0.02 seconds\n",
      "12.7 seconds of data processed\n",
      "Last batch took: 0.01 seconds\n",
      "12.8 seconds of data processed\n",
      "Last batch took: 0.01 seconds\n",
      "12.9 seconds of data processed\n",
      "Last batch took: 0.01 seconds\n",
      "13.0 seconds of data processed\n",
      "Last batch took: 0.01 seconds\n",
      "13.1 seconds of data processed\n",
      "Last batch took: 0.01 seconds\n",
      "13.2 seconds of data processed\n",
      "Last batch took: 0.01 seconds\n",
      "13.3 seconds of data processed\n",
      "Last batch took: 0.01 seconds\n",
      "13.4 seconds of data processed\n",
      "Last batch took: 0.01 seconds\n",
      "13.5 seconds of data processed\n",
      "Last batch took: 0.01 seconds\n",
      "13.6 seconds of data processed\n",
      "Last batch took: 0.01 seconds\n",
      "13.7 seconds of data processed\n",
      "Last batch took: 0.01 seconds\n",
      "13.8 seconds of data processed\n",
      "Last batch took: 0.01 seconds\n",
      "13.9 seconds of data processed\n",
      "Last batch took: 0.01 seconds\n",
      "14.0 seconds of data processed\n",
      "Last batch took: 0.01 seconds\n",
      "14.1 seconds of data processed\n",
      "Last batch took: 0.01 seconds\n",
      "14.2 seconds of data processed\n",
      "Last batch took: 0.01 seconds\n",
      "14.3 seconds of data processed\n",
      "Last batch took: 0.01 seconds\n",
      "14.4 seconds of data processed\n",
      "Last batch took: 0.01 seconds\n",
      "14.5 seconds of data processed\n",
      "Last batch took: 0.01 seconds\n",
      "14.6 seconds of data processed\n",
      "Last batch took: 0.01 seconds\n",
      "14.7 seconds of data processed\n",
      "Last batch took: 0.01 seconds\n",
      "14.8 seconds of data processed\n",
      "Last batch took: 0.01 seconds\n",
      "14.9 seconds of data processed\n",
      "Last batch took: 0.01 seconds\n",
      "15.0 seconds of data processed\n",
      "Last batch took: 0.01 seconds\n",
      "15.1 seconds of data processed\n",
      "Last batch took: 0.01 seconds\n",
      "15.2 seconds of data processed\n",
      "Last batch took: 0.01 seconds\n",
      "15.3 seconds of data processed\n",
      "Last batch took: 0.01 seconds\n",
      "15.4 seconds of data processed\n",
      "Last batch took: 0.01 seconds\n",
      "15.5 seconds of data processed\n",
      "Last batch took: 0.01 seconds\n",
      "15.6 seconds of data processed\n",
      "Last batch took: 0.01 seconds\n",
      "15.7 seconds of data processed\n",
      "Last batch took: 0.01 seconds\n",
      "15.8 seconds of data processed\n",
      "Last batch took: 0.01 seconds\n",
      "15.9 seconds of data processed\n",
      "Last batch took: 0.01 seconds\n",
      "16.0 seconds of data processed\n",
      "Last batch took: 0.01 seconds\n",
      "16.1 seconds of data processed\n",
      "Last batch took: 0.01 seconds\n",
      "16.2 seconds of data processed\n",
      "Last batch took: 0.01 seconds\n",
      "16.3 seconds of data processed\n",
      "Last batch took: 0.01 seconds\n",
      "16.4 seconds of data processed\n",
      "Last batch took: 0.01 seconds\n",
      "16.5 seconds of data processed\n",
      "Last batch took: 0.01 seconds\n",
      "16.6 seconds of data processed\n",
      "Last batch took: 0.01 seconds\n",
      "16.7 seconds of data processed\n",
      "Last batch took: 0.01 seconds\n",
      "16.8 seconds of data processed\n",
      "Last batch took: 0.01 seconds\n",
      "16.9 seconds of data processed\n",
      "Last batch took: 0.01 seconds\n",
      "17.0 seconds of data processed\n",
      "Last batch took: 0.01 seconds\n",
      "17.1 seconds of data processed\n",
      "Last batch took: 0.01 seconds\n",
      "17.2 seconds of data processed\n",
      "Last batch took: 0.01 seconds\n",
      "17.3 seconds of data processed\n",
      "Last batch took: 0.01 seconds\n",
      "17.4 seconds of data processed\n",
      "Last batch took: 0.01 seconds\n",
      "17.5 seconds of data processed\n",
      "Last batch took: 0.01 seconds\n",
      "17.6 seconds of data processed\n",
      "Last batch took: 0.01 seconds\n",
      "17.7 seconds of data processed\n",
      "Last batch took: 0.01 seconds\n",
      "17.8 seconds of data processed\n",
      "Last batch took: 0.01 seconds\n",
      "17.9 seconds of data processed\n",
      "_SIDECAR.json saved to /home/lauraflyra/Documents/BCCN/Lab_Rotation_DBS_Decoding/Code/py_neuromodulation/examples/data/derivatives/sub-testsub_ses-EphysMedOff_task-buttonpress_run-0/sub-testsub_ses-EphysMedOff_task-buttonpress_run-0_SIDECAR.json\n",
      "FEATURES.csv saved to /home/lauraflyra/Documents/BCCN/Lab_Rotation_DBS_Decoding/Code/py_neuromodulation/examples/data/derivatives/sub-testsub_ses-EphysMedOff_task-buttonpress_run-0/sub-testsub_ses-EphysMedOff_task-buttonpress_run-0_FEATURES.csv\n",
      "settings.json saved to /home/lauraflyra/Documents/BCCN/Lab_Rotation_DBS_Decoding/Code/py_neuromodulation/examples/data/derivatives/sub-testsub_ses-EphysMedOff_task-buttonpress_run-0/sub-testsub_ses-EphysMedOff_task-buttonpress_run-0_SETTINGS.json\n",
      "nm_channels.csv saved to /home/lauraflyra/Documents/BCCN/Lab_Rotation_DBS_Decoding/Code/py_neuromodulation/examples/data/derivatives/sub-testsub_ses-EphysMedOff_task-buttonpress_run-0/sub-testsub_ses-EphysMedOff_task-buttonpress_run-0_nm_channels.csv\n"
     ]
    }
   ],
   "source": [
    "stream.init_stream(\n",
    "    sfreq=sfreq,\n",
    "    line_noise=line_noise,\n",
    "    coord_list=coord_list,\n",
    "    coord_names=coord_names,\n",
    ")\n",
    "\n",
    "stream.run(\n",
    "    data=data,\n",
    "    out_path_root=PATH_OUT,\n",
    "    folder_name=RUN_NAME,\n",
    ")"
   ],
   "metadata": {
    "collapsed": false,
    "pycharm": {
     "name": "#%%\n"
    }
   }
  },
  {
   "cell_type": "markdown",
   "source": [
    "## Analysing results"
   ],
   "metadata": {
    "collapsed": false
   }
  },
  {
   "cell_type": "code",
   "execution_count": 9,
   "outputs": [],
   "source": [
    "# init analyzer\n",
    "feature_reader = nm_analysis.Feature_Reader(\n",
    "    feature_dir=PATH_OUT, feature_file=RUN_NAME\n",
    ")\n",
    "\n",
    "# plot for a single channel\n",
    "ch_used = feature_reader.nm_channels.query(\n",
    "    '(type==\"ecog\") and (used == 1)'\n",
    ").iloc[0][\"name\"]\n",
    "\n",
    "feature_used = (\n",
    "    \"stft\" if feature_reader.settings[\"features\"][\"stft\"] else \"fft\"\n",
    ")"
   ],
   "metadata": {
    "collapsed": false,
    "pycharm": {
     "name": "#%%\n"
    }
   }
  },
  {
   "cell_type": "markdown",
   "source": [
    "__QUESTION: Since I need to take only one batch of data:__\n",
    "\n",
    "1. Is this method in the cell below the way I'm expected to get a batch from the data? Or is there a more direct way?"
   ],
   "metadata": {
    "collapsed": false
   }
  },
  {
   "cell_type": "code",
   "execution_count": 10,
   "outputs": [
    {
     "data": {
      "text/plain": "(15, 1000)"
     },
     "execution_count": 10,
     "metadata": {},
     "output_type": "execute_result"
    }
   ],
   "source": [
    "from py_neuromodulation import nm_generator\n",
    "generator = nm_generator.ieeg_raw_generator(data, feature_reader.settings, feature_reader.sfreq)\n",
    "data_batch = next(generator, None)\n",
    "data_batch.shape"
   ],
   "metadata": {
    "collapsed": false,
    "pycharm": {
     "name": "#%%\n"
    }
   }
  },
  {
   "cell_type": "code",
   "execution_count": 11,
   "outputs": [
    {
     "data": {
      "text/plain": "array([[ 55.020352 ,  54.9865344,  55.0090944, ...,  55.5345984,\n         54.9779776,  55.0139904],\n       [  3.       ,   9.       ,  23.       , ...,  23.       ,\n         35.       ,  36.       ],\n       [ 27.       ,  33.       ,  49.       , ...,  50.       ,\n         62.       ,  67.       ],\n       ...,\n       [-11.       ,  -1.       ,  16.       , ...,   7.       ,\n         23.       ,  29.       ],\n       [  0.       ,   0.       ,   0.       , ...,   0.       ,\n          0.       ,   0.       ],\n       [  0.       ,   0.       ,   0.       , ...,   0.       ,\n          0.       ,   0.       ]])"
     },
     "execution_count": 11,
     "metadata": {},
     "output_type": "execute_result"
    }
   ],
   "source": [
    "data_batch"
   ],
   "metadata": {
    "collapsed": false,
    "pycharm": {
     "name": "#%%\n"
    }
   }
  },
  {
   "cell_type": "markdown",
   "source": [
    "__QUESTION__\n",
    "\n",
    "2. Then should I by hand initialize the Run class and process data from nm_run_analysis.py to actually run the feature estimation in only this batch? Is that it? If so, how do actually do it? I'm trying to follow from FeatureEstimationDemo the Feature Estimation and Sharpwave features sections, but since nm_start_BIDS and related functions don't exist or were re-estructured, I'm having a hard time doing it.\n"
   ],
   "metadata": {
    "collapsed": false,
    "pycharm": {
     "name": "#%% md\n"
    }
   }
  }
 ],
 "metadata": {
  "kernelspec": {
   "display_name": "Python 3",
   "language": "python",
   "name": "python3"
  },
  "language_info": {
   "codemirror_mode": {
    "name": "ipython",
    "version": 2
   },
   "file_extension": ".py",
   "mimetype": "text/x-python",
   "name": "python",
   "nbconvert_exporter": "python",
   "pygments_lexer": "ipython2",
   "version": "2.7.6"
  }
 },
 "nbformat": 4,
 "nbformat_minor": 0
}