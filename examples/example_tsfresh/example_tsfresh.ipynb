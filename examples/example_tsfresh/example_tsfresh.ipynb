{
 "cells": [
  {
   "cell_type": "markdown",
   "id": "7cf8e8fa",
   "metadata": {},
   "source": [
    "Get data for a single second and calculate features for a single channel. Check the timing.\n",
    "\n",
    "I will use the ts-fresh pre-identified parameters sets:\n",
    " - MinimalParameters\n",
    " - EfficientFCParameters\n",
    " - ComprehensiveFCParameters\n",
    " \n",
    " Complete List of features that TS-fresh provides:\n",
    " https://tsfresh.readthedocs.io/en/latest/text/list_of_features.html\n",
    " \n",
    " "
   ]
  },
  {
   "cell_type": "code",
   "execution_count": 1,
   "id": "48e44951",
   "metadata": {},
   "outputs": [],
   "source": [
    "import tsfresh"
   ]
  },
  {
   "cell_type": "code",
   "execution_count": 2,
   "id": "0a965e06",
   "metadata": {},
   "outputs": [
    {
     "name": "stderr",
     "output_type": "stream",
     "text": [
      "/Users/hi/opt/anaconda3/envs/pn_env/lib/python3.10/site-packages/xgboost/compat.py:36: FutureWarning: pandas.Int64Index is deprecated and will be removed from pandas in a future version. Use pandas.Index with the appropriate dtype instead.\n",
      "  from pandas import MultiIndex, Int64Index\n"
     ]
    }
   ],
   "source": [
    "import py_neuromodulation as py_nm\n",
    "\n",
    "from py_neuromodulation import nm_IO\n",
    "\n",
    "import os\n",
    "\n",
    "from matplotlib import pyplot as plt\n",
    "\n",
    "import pandas as pd"
   ]
  },
  {
   "cell_type": "code",
   "execution_count": 3,
   "id": "61a2185f",
   "metadata": {},
   "outputs": [
    {
     "data": {
      "text/plain": [
       "'/Users/hi/Documents/py_neuromodulation/py_neuromodulation/example'"
      ]
     },
     "execution_count": 3,
     "metadata": {},
     "output_type": "execute_result"
    }
   ],
   "source": [
    "os.path.join(py_nm.__path__[0], 'example')"
   ]
  },
  {
   "cell_type": "code",
   "execution_count": 4,
   "id": "62c9a373",
   "metadata": {},
   "outputs": [
    {
     "data": {
      "text/plain": [
       "'/Users/hi/Documents/py_neuromodulation'"
      ]
     },
     "execution_count": 4,
     "metadata": {},
     "output_type": "execute_result"
    }
   ],
   "source": [
    "os.path.dirname(py_nm.__path__[0])"
   ]
  },
  {
   "cell_type": "code",
   "execution_count": 5,
   "id": "45130ac9",
   "metadata": {},
   "outputs": [
    {
     "name": "stdout",
     "output_type": "stream",
     "text": [
      "Extracting parameters from /Users/hi/Documents/py_neuromodulation/examples/data/sub-testsub/ses-EphysMedOff/ieeg/sub-testsub_ses-EphysMedOff_task-buttonpress_run-0_ieeg.vhdr...\n",
      "Setting channel info structure...\n",
      "Reading channel info from /Users/hi/Documents/py_neuromodulation/examples/data/sub-testsub/ses-EphysMedOff/ieeg/sub-testsub_ses-EphysMedOff_task-buttonpress_run-0_channels.tsv.\n",
      "Reading electrode coords from /Users/hi/Documents/py_neuromodulation/examples/data/sub-testsub/ses-EphysMedOff/ieeg/sub-testsub_ses-EphysMedOff_acq-StimOff_space-mni_electrodes.tsv.\n"
     ]
    }
   ],
   "source": [
    "sub = \"testsub\"\n",
    "ses = \"EphysMedOff\"\n",
    "task = \"buttonpress\"\n",
    "run = 0\n",
    "datatype = \"ieeg\"\n",
    "\n",
    "SCRIPT_DIR = os.path.join(os.path.dirname(py_nm.__path__[0]), 'examples')\n",
    "\n",
    "# Define run name and access paths in the BIDS format.\n",
    "RUN_NAME = f\"sub-{sub}_ses-{ses}_task-{task}_run-{run}\"\n",
    "\n",
    "PATH_RUN = os.path.join(\n",
    "    (os.path.join(SCRIPT_DIR, \"data\")),\n",
    "    f\"sub-{sub}\",\n",
    "    f\"ses-{ses}\",\n",
    "    datatype,\n",
    "    RUN_NAME,\n",
    ")\n",
    "PATH_BIDS = os.path.join(SCRIPT_DIR, \"data\")\n",
    "\n",
    "# Provide a path for the output data.\n",
    "PATH_OUT = os.path.join(SCRIPT_DIR, \"data\", \"derivatives\")\n",
    "\n",
    "(\n",
    "    raw,\n",
    "    data,\n",
    "    sfreq,\n",
    "    line_noise,\n",
    "    coord_list,\n",
    "    coord_names,\n",
    ") = nm_IO.read_BIDS_data(\n",
    "    PATH_RUN=PATH_RUN, BIDS_PATH=PATH_BIDS, datatype=datatype\n",
    ")\n"
   ]
  },
  {
   "cell_type": "code",
   "execution_count": 19,
   "id": "25d5b2bb",
   "metadata": {},
   "outputs": [],
   "source": [
    "from tsfresh.feature_extraction import extract_features, EfficientFCParameters, ComprehensiveFCParameters, MinimalFCParameters"
   ]
  },
  {
   "cell_type": "code",
   "execution_count": 7,
   "id": "e75e9579",
   "metadata": {},
   "outputs": [],
   "source": [
    "dat = raw.get_data()[10, :]"
   ]
  },
  {
   "cell_type": "code",
   "execution_count": 8,
   "id": "df3e5c39",
   "metadata": {},
   "outputs": [
    {
     "data": {
      "text/plain": [
       "1375.0"
      ]
     },
     "execution_count": 8,
     "metadata": {},
     "output_type": "execute_result"
    }
   ],
   "source": [
    "raw.info['sfreq']"
   ]
  },
  {
   "cell_type": "code",
   "execution_count": 22,
   "id": "5c609164",
   "metadata": {},
   "outputs": [],
   "source": [
    "df = raw.to_data_frame().iloc[:1375]\n",
    "df['id'] = 1\n",
    "df = df.iloc[:, [0, 2, -1]]"
   ]
  },
  {
   "cell_type": "code",
   "execution_count": 23,
   "id": "77e255c9",
   "metadata": {},
   "outputs": [
    {
     "data": {
      "text/html": [
       "<div>\n",
       "<style scoped>\n",
       "    .dataframe tbody tr th:only-of-type {\n",
       "        vertical-align: middle;\n",
       "    }\n",
       "\n",
       "    .dataframe tbody tr th {\n",
       "        vertical-align: top;\n",
       "    }\n",
       "\n",
       "    .dataframe thead th {\n",
       "        text-align: right;\n",
       "    }\n",
       "</style>\n",
       "<table border=\"1\" class=\"dataframe\">\n",
       "  <thead>\n",
       "    <tr style=\"text-align: right;\">\n",
       "      <th></th>\n",
       "      <th>time</th>\n",
       "      <th>ECOG_L_1_SMC_AT</th>\n",
       "      <th>id</th>\n",
       "    </tr>\n",
       "  </thead>\n",
       "  <tbody>\n",
       "    <tr>\n",
       "      <th>0</th>\n",
       "      <td>0</td>\n",
       "      <td>3000000.0</td>\n",
       "      <td>1</td>\n",
       "    </tr>\n",
       "    <tr>\n",
       "      <th>1</th>\n",
       "      <td>1</td>\n",
       "      <td>9000000.0</td>\n",
       "      <td>1</td>\n",
       "    </tr>\n",
       "    <tr>\n",
       "      <th>2</th>\n",
       "      <td>1</td>\n",
       "      <td>23000000.0</td>\n",
       "      <td>1</td>\n",
       "    </tr>\n",
       "    <tr>\n",
       "      <th>3</th>\n",
       "      <td>2</td>\n",
       "      <td>18000000.0</td>\n",
       "      <td>1</td>\n",
       "    </tr>\n",
       "    <tr>\n",
       "      <th>4</th>\n",
       "      <td>3</td>\n",
       "      <td>9000000.0</td>\n",
       "      <td>1</td>\n",
       "    </tr>\n",
       "    <tr>\n",
       "      <th>...</th>\n",
       "      <td>...</td>\n",
       "      <td>...</td>\n",
       "      <td>...</td>\n",
       "    </tr>\n",
       "    <tr>\n",
       "      <th>1370</th>\n",
       "      <td>996</td>\n",
       "      <td>-9000000.0</td>\n",
       "      <td>1</td>\n",
       "    </tr>\n",
       "    <tr>\n",
       "      <th>1371</th>\n",
       "      <td>997</td>\n",
       "      <td>-19000000.0</td>\n",
       "      <td>1</td>\n",
       "    </tr>\n",
       "    <tr>\n",
       "      <th>1372</th>\n",
       "      <td>998</td>\n",
       "      <td>-29000000.0</td>\n",
       "      <td>1</td>\n",
       "    </tr>\n",
       "    <tr>\n",
       "      <th>1373</th>\n",
       "      <td>999</td>\n",
       "      <td>-31000000.0</td>\n",
       "      <td>1</td>\n",
       "    </tr>\n",
       "    <tr>\n",
       "      <th>1374</th>\n",
       "      <td>999</td>\n",
       "      <td>-35000000.0</td>\n",
       "      <td>1</td>\n",
       "    </tr>\n",
       "  </tbody>\n",
       "</table>\n",
       "<p>1375 rows × 3 columns</p>\n",
       "</div>"
      ],
      "text/plain": [
       "      time  ECOG_L_1_SMC_AT  id\n",
       "0        0        3000000.0   1\n",
       "1        1        9000000.0   1\n",
       "2        1       23000000.0   1\n",
       "3        2       18000000.0   1\n",
       "4        3        9000000.0   1\n",
       "...    ...              ...  ..\n",
       "1370   996       -9000000.0   1\n",
       "1371   997      -19000000.0   1\n",
       "1372   998      -29000000.0   1\n",
       "1373   999      -31000000.0   1\n",
       "1374   999      -35000000.0   1\n",
       "\n",
       "[1375 rows x 3 columns]"
      ]
     },
     "execution_count": 23,
     "metadata": {},
     "output_type": "execute_result"
    }
   ],
   "source": [
    "df"
   ]
  },
  {
   "cell_type": "markdown",
   "id": "50b8bcea",
   "metadata": {},
   "source": [
    "### MinimalFCParameters"
   ]
  },
  {
   "cell_type": "code",
   "execution_count": 27,
   "id": "b8f2fd62",
   "metadata": {},
   "outputs": [
    {
     "name": "stderr",
     "output_type": "stream",
     "text": [
      "Feature Extraction: 100%|█████████████████████████| 1/1 [00:02<00:00,  2.70s/it]\n"
     ]
    }
   ],
   "source": [
    "extracted_features = extract_features(\n",
    "    df,\n",
    "    column_id=\"id\",\n",
    "    column_sort=\"time\",\n",
    "    default_fc_parameters=MinimalFCParameters()\n",
    ")"
   ]
  },
  {
   "cell_type": "code",
   "execution_count": 28,
   "id": "cc8550b2",
   "metadata": {},
   "outputs": [
    {
     "data": {
      "text/plain": [
       "(10, 1)"
      ]
     },
     "execution_count": 28,
     "metadata": {},
     "output_type": "execute_result"
    }
   ],
   "source": [
    "extracted_features.T.shape"
   ]
  },
  {
   "cell_type": "code",
   "execution_count": 29,
   "id": "7b8cf4c1",
   "metadata": {},
   "outputs": [
    {
     "data": {
      "text/html": [
       "<div>\n",
       "<style scoped>\n",
       "    .dataframe tbody tr th:only-of-type {\n",
       "        vertical-align: middle;\n",
       "    }\n",
       "\n",
       "    .dataframe tbody tr th {\n",
       "        vertical-align: top;\n",
       "    }\n",
       "\n",
       "    .dataframe thead th {\n",
       "        text-align: right;\n",
       "    }\n",
       "</style>\n",
       "<table border=\"1\" class=\"dataframe\">\n",
       "  <thead>\n",
       "    <tr style=\"text-align: right;\">\n",
       "      <th></th>\n",
       "      <th>1</th>\n",
       "    </tr>\n",
       "  </thead>\n",
       "  <tbody>\n",
       "    <tr>\n",
       "      <th>ECOG_L_1_SMC_AT__sum_values</th>\n",
       "      <td>7.395000e+09</td>\n",
       "    </tr>\n",
       "    <tr>\n",
       "      <th>ECOG_L_1_SMC_AT__median</th>\n",
       "      <td>1.100000e+07</td>\n",
       "    </tr>\n",
       "    <tr>\n",
       "      <th>ECOG_L_1_SMC_AT__mean</th>\n",
       "      <td>5.378182e+06</td>\n",
       "    </tr>\n",
       "    <tr>\n",
       "      <th>ECOG_L_1_SMC_AT__length</th>\n",
       "      <td>1.375000e+03</td>\n",
       "    </tr>\n",
       "    <tr>\n",
       "      <th>ECOG_L_1_SMC_AT__standard_deviation</th>\n",
       "      <td>3.574147e+07</td>\n",
       "    </tr>\n",
       "    <tr>\n",
       "      <th>ECOG_L_1_SMC_AT__variance</th>\n",
       "      <td>1.277453e+15</td>\n",
       "    </tr>\n",
       "    <tr>\n",
       "      <th>ECOG_L_1_SMC_AT__root_mean_square</th>\n",
       "      <td>3.614384e+07</td>\n",
       "    </tr>\n",
       "    <tr>\n",
       "      <th>ECOG_L_1_SMC_AT__maximum</th>\n",
       "      <td>8.200000e+07</td>\n",
       "    </tr>\n",
       "    <tr>\n",
       "      <th>ECOG_L_1_SMC_AT__absolute_maximum</th>\n",
       "      <td>9.800000e+07</td>\n",
       "    </tr>\n",
       "    <tr>\n",
       "      <th>ECOG_L_1_SMC_AT__minimum</th>\n",
       "      <td>-9.800000e+07</td>\n",
       "    </tr>\n",
       "  </tbody>\n",
       "</table>\n",
       "</div>"
      ],
      "text/plain": [
       "                                                1\n",
       "ECOG_L_1_SMC_AT__sum_values          7.395000e+09\n",
       "ECOG_L_1_SMC_AT__median              1.100000e+07\n",
       "ECOG_L_1_SMC_AT__mean                5.378182e+06\n",
       "ECOG_L_1_SMC_AT__length              1.375000e+03\n",
       "ECOG_L_1_SMC_AT__standard_deviation  3.574147e+07\n",
       "ECOG_L_1_SMC_AT__variance            1.277453e+15\n",
       "ECOG_L_1_SMC_AT__root_mean_square    3.614384e+07\n",
       "ECOG_L_1_SMC_AT__maximum             8.200000e+07\n",
       "ECOG_L_1_SMC_AT__absolute_maximum    9.800000e+07\n",
       "ECOG_L_1_SMC_AT__minimum            -9.800000e+07"
      ]
     },
     "execution_count": 29,
     "metadata": {},
     "output_type": "execute_result"
    }
   ],
   "source": [
    "extracted_features.T"
   ]
  },
  {
   "cell_type": "markdown",
   "id": "0e13603b",
   "metadata": {},
   "source": [
    "### EfficientFCParameters"
   ]
  },
  {
   "cell_type": "code",
   "execution_count": 33,
   "id": "804619fe",
   "metadata": {},
   "outputs": [
    {
     "name": "stderr",
     "output_type": "stream",
     "text": [
      "Feature Extraction: 100%|█████████████████████████| 1/1 [00:04<00:00,  4.30s/it]\n"
     ]
    }
   ],
   "source": [
    "extracted_features = extract_features(\n",
    "    df,\n",
    "    column_id=\"id\",\n",
    "    column_sort=\"time\",\n",
    "    default_fc_parameters=EfficientFCParameters()\n",
    ")"
   ]
  },
  {
   "cell_type": "code",
   "execution_count": 34,
   "id": "5ba05a09",
   "metadata": {},
   "outputs": [
    {
     "data": {
      "text/plain": [
       "(1, 783)"
      ]
     },
     "execution_count": 34,
     "metadata": {},
     "output_type": "execute_result"
    }
   ],
   "source": [
    "extracted_features.shape"
   ]
  },
  {
   "cell_type": "code",
   "execution_count": 35,
   "id": "afd6d795",
   "metadata": {},
   "outputs": [
    {
     "data": {
      "text/html": [
       "<div>\n",
       "<style scoped>\n",
       "    .dataframe tbody tr th:only-of-type {\n",
       "        vertical-align: middle;\n",
       "    }\n",
       "\n",
       "    .dataframe tbody tr th {\n",
       "        vertical-align: top;\n",
       "    }\n",
       "\n",
       "    .dataframe thead th {\n",
       "        text-align: right;\n",
       "    }\n",
       "</style>\n",
       "<table border=\"1\" class=\"dataframe\">\n",
       "  <thead>\n",
       "    <tr style=\"text-align: right;\">\n",
       "      <th></th>\n",
       "      <th>1</th>\n",
       "    </tr>\n",
       "  </thead>\n",
       "  <tbody>\n",
       "    <tr>\n",
       "      <th>ECOG_L_1_SMC_AT__variance_larger_than_standard_deviation</th>\n",
       "      <td>1.000000e+00</td>\n",
       "    </tr>\n",
       "    <tr>\n",
       "      <th>ECOG_L_1_SMC_AT__has_duplicate_max</th>\n",
       "      <td>0.000000e+00</td>\n",
       "    </tr>\n",
       "    <tr>\n",
       "      <th>ECOG_L_1_SMC_AT__has_duplicate_min</th>\n",
       "      <td>0.000000e+00</td>\n",
       "    </tr>\n",
       "    <tr>\n",
       "      <th>ECOG_L_1_SMC_AT__has_duplicate</th>\n",
       "      <td>1.000000e+00</td>\n",
       "    </tr>\n",
       "    <tr>\n",
       "      <th>ECOG_L_1_SMC_AT__sum_values</th>\n",
       "      <td>7.395000e+09</td>\n",
       "    </tr>\n",
       "    <tr>\n",
       "      <th>...</th>\n",
       "      <td>...</td>\n",
       "    </tr>\n",
       "    <tr>\n",
       "      <th>ECOG_L_1_SMC_AT__matrix_profile__feature_\"mean\"__threshold_0.98</th>\n",
       "      <td>3.492360e+00</td>\n",
       "    </tr>\n",
       "    <tr>\n",
       "      <th>ECOG_L_1_SMC_AT__matrix_profile__feature_\"median\"__threshold_0.98</th>\n",
       "      <td>3.450188e+00</td>\n",
       "    </tr>\n",
       "    <tr>\n",
       "      <th>ECOG_L_1_SMC_AT__matrix_profile__feature_\"25\"__threshold_0.98</th>\n",
       "      <td>2.549251e+00</td>\n",
       "    </tr>\n",
       "    <tr>\n",
       "      <th>ECOG_L_1_SMC_AT__matrix_profile__feature_\"75\"__threshold_0.98</th>\n",
       "      <td>4.486479e+00</td>\n",
       "    </tr>\n",
       "    <tr>\n",
       "      <th>ECOG_L_1_SMC_AT__mean_n_absolute_max__number_of_maxima_7</th>\n",
       "      <td>9.542857e+07</td>\n",
       "    </tr>\n",
       "  </tbody>\n",
       "</table>\n",
       "<p>783 rows × 1 columns</p>\n",
       "</div>"
      ],
      "text/plain": [
       "                                                               1\n",
       "ECOG_L_1_SMC_AT__variance_larger_than_standard_...  1.000000e+00\n",
       "ECOG_L_1_SMC_AT__has_duplicate_max                  0.000000e+00\n",
       "ECOG_L_1_SMC_AT__has_duplicate_min                  0.000000e+00\n",
       "ECOG_L_1_SMC_AT__has_duplicate                      1.000000e+00\n",
       "ECOG_L_1_SMC_AT__sum_values                         7.395000e+09\n",
       "...                                                          ...\n",
       "ECOG_L_1_SMC_AT__matrix_profile__feature_\"mean\"...  3.492360e+00\n",
       "ECOG_L_1_SMC_AT__matrix_profile__feature_\"media...  3.450188e+00\n",
       "ECOG_L_1_SMC_AT__matrix_profile__feature_\"25\"__...  2.549251e+00\n",
       "ECOG_L_1_SMC_AT__matrix_profile__feature_\"75\"__...  4.486479e+00\n",
       "ECOG_L_1_SMC_AT__mean_n_absolute_max__number_of...  9.542857e+07\n",
       "\n",
       "[783 rows x 1 columns]"
      ]
     },
     "execution_count": 35,
     "metadata": {},
     "output_type": "execute_result"
    }
   ],
   "source": [
    "extracted_features.T"
   ]
  }
 ],
 "metadata": {
  "kernelspec": {
   "display_name": "pn_env",
   "language": "python",
   "name": "pn_env"
  },
  "language_info": {
   "codemirror_mode": {
    "name": "ipython",
    "version": 3
   },
   "file_extension": ".py",
   "mimetype": "text/x-python",
   "name": "python",
   "nbconvert_exporter": "python",
   "pygments_lexer": "ipython3",
   "version": "3.10.4"
  }
 },
 "nbformat": 4,
 "nbformat_minor": 5
}
