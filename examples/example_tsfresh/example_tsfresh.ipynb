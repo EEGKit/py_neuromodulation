{
 "cells": [
  {
   "cell_type": "code",
   "execution_count": 1,
   "id": "48e44951",
   "metadata": {},
   "outputs": [],
   "source": [
    "import tsfresh"
   ]
  },
  {
   "cell_type": "code",
   "execution_count": 2,
   "id": "0a965e06",
   "metadata": {},
   "outputs": [
    {
     "name": "stderr",
     "output_type": "stream",
     "text": [
      "/Users/hi/opt/anaconda3/envs/pn_env/lib/python3.10/site-packages/xgboost/compat.py:36: FutureWarning: pandas.Int64Index is deprecated and will be removed from pandas in a future version. Use pandas.Index with the appropriate dtype instead.\n",
      "  from pandas import MultiIndex, Int64Index\n"
     ]
    }
   ],
   "source": [
    "import py_neuromodulation as py_nm\n",
    "\n",
    "from py_neuromodulation import nm_IO\n",
    "\n",
    "import os\n",
    "\n",
    "from matplotlib import pyplot as plt\n",
    "\n",
    "import pandas as pd"
   ]
  },
  {
   "cell_type": "code",
   "execution_count": 3,
   "id": "61a2185f",
   "metadata": {},
   "outputs": [
    {
     "data": {
      "text/plain": [
       "'/Users/hi/Documents/py_neuromodulation/py_neuromodulation/example'"
      ]
     },
     "execution_count": 3,
     "metadata": {},
     "output_type": "execute_result"
    }
   ],
   "source": [
    "os.path.join(py_nm.__path__[0], 'example')"
   ]
  },
  {
   "cell_type": "code",
   "execution_count": 4,
   "id": "62c9a373",
   "metadata": {},
   "outputs": [
    {
     "data": {
      "text/plain": [
       "'/Users/hi/Documents/py_neuromodulation'"
      ]
     },
     "execution_count": 4,
     "metadata": {},
     "output_type": "execute_result"
    }
   ],
   "source": [
    "os.path.dirname(py_nm.__path__[0])"
   ]
  },
  {
   "cell_type": "code",
   "execution_count": 5,
   "id": "45130ac9",
   "metadata": {},
   "outputs": [
    {
     "name": "stdout",
     "output_type": "stream",
     "text": [
      "Extracting parameters from /Users/hi/Documents/py_neuromodulation/examples/data/sub-testsub/ses-EphysMedOff/ieeg/sub-testsub_ses-EphysMedOff_task-buttonpress_run-0_ieeg.vhdr...\n",
      "Setting channel info structure...\n",
      "Reading channel info from /Users/hi/Documents/py_neuromodulation/examples/data/sub-testsub/ses-EphysMedOff/ieeg/sub-testsub_ses-EphysMedOff_task-buttonpress_run-0_channels.tsv.\n",
      "Reading electrode coords from /Users/hi/Documents/py_neuromodulation/examples/data/sub-testsub/ses-EphysMedOff/ieeg/sub-testsub_ses-EphysMedOff_acq-StimOff_space-mni_electrodes.tsv.\n"
     ]
    }
   ],
   "source": [
    "sub = \"testsub\"\n",
    "ses = \"EphysMedOff\"\n",
    "task = \"buttonpress\"\n",
    "run = 0\n",
    "datatype = \"ieeg\"\n",
    "\n",
    "SCRIPT_DIR = os.path.join(os.path.dirname(py_nm.__path__[0]), 'examples')\n",
    "\n",
    "# Define run name and access paths in the BIDS format.\n",
    "RUN_NAME = f\"sub-{sub}_ses-{ses}_task-{task}_run-{run}\"\n",
    "\n",
    "PATH_RUN = os.path.join(\n",
    "    (os.path.join(SCRIPT_DIR, \"data\")),\n",
    "    f\"sub-{sub}\",\n",
    "    f\"ses-{ses}\",\n",
    "    datatype,\n",
    "    RUN_NAME,\n",
    ")\n",
    "PATH_BIDS = os.path.join(SCRIPT_DIR, \"data\")\n",
    "\n",
    "# Provide a path for the output data.\n",
    "PATH_OUT = os.path.join(SCRIPT_DIR, \"data\", \"derivatives\")\n",
    "\n",
    "(\n",
    "    raw,\n",
    "    data,\n",
    "    sfreq,\n",
    "    line_noise,\n",
    "    coord_list,\n",
    "    coord_names,\n",
    ") = nm_IO.read_BIDS_data(\n",
    "    PATH_RUN=PATH_RUN, BIDS_PATH=PATH_BIDS, datatype=datatype\n",
    ")\n"
   ]
  },
  {
   "cell_type": "code",
   "execution_count": 6,
   "id": "25d5b2bb",
   "metadata": {},
   "outputs": [],
   "source": [
    "from tsfresh.feature_extraction import extract_features, EfficientFCParameters, MinimalFCParameters"
   ]
  },
  {
   "cell_type": "code",
   "execution_count": 7,
   "id": "e75e9579",
   "metadata": {},
   "outputs": [],
   "source": [
    "dat = raw.get_data()[10, :]"
   ]
  },
  {
   "cell_type": "code",
   "execution_count": 8,
   "id": "df3e5c39",
   "metadata": {},
   "outputs": [
    {
     "data": {
      "text/plain": [
       "1375.0"
      ]
     },
     "execution_count": 8,
     "metadata": {},
     "output_type": "execute_result"
    }
   ],
   "source": [
    "raw.info['sfreq']"
   ]
  },
  {
   "cell_type": "code",
   "execution_count": 9,
   "id": "5c609164",
   "metadata": {},
   "outputs": [],
   "source": [
    "df = raw.to_data_frame().iloc[:1375]\n",
    "df['id'] = 1\n",
    "df = df.iloc[:, [0, 2, -1]]"
   ]
  },
  {
   "cell_type": "code",
   "execution_count": 10,
   "id": "b8f2fd62",
   "metadata": {},
   "outputs": [
    {
     "name": "stderr",
     "output_type": "stream",
     "text": [
      "Feature Extraction: 100%|█████████████████████████| 1/1 [00:05<00:00,  5.03s/it]\n"
     ]
    }
   ],
   "source": [
    "extracted_features = extract_features(\n",
    "    df,\n",
    "    column_id=\"id\",\n",
    "    column_sort=\"time\",\n",
    "    default_fc_parameters=MinimalFCParameters()\n",
    ")"
   ]
  },
  {
   "cell_type": "code",
   "execution_count": 11,
   "id": "cc8550b2",
   "metadata": {},
   "outputs": [
    {
     "data": {
      "text/plain": [
       "(10, 1)"
      ]
     },
     "execution_count": 11,
     "metadata": {},
     "output_type": "execute_result"
    }
   ],
   "source": [
    "extracted_features.T.shape"
   ]
  },
  {
   "cell_type": "code",
   "execution_count": 12,
   "id": "cc0b901e",
   "metadata": {},
   "outputs": [
    {
     "name": "stderr",
     "output_type": "stream",
     "text": [
      "Feature Extraction: 100%|█████████████████████████| 1/1 [00:02<00:00,  2.92s/it]\n"
     ]
    }
   ],
   "source": [
    "extracted_features = extract_features(\n",
    "    df,\n",
    "    column_id=\"id\",\n",
    "    column_sort=\"time\",\n",
    "    default_fc_parameters=MinimalFCParameters()\n",
    ")"
   ]
  },
  {
   "cell_type": "code",
   "execution_count": 13,
   "id": "804619fe",
   "metadata": {},
   "outputs": [
    {
     "name": "stderr",
     "output_type": "stream",
     "text": [
      "Feature Extraction: 100%|█████████████████████████| 1/1 [00:03<00:00,  3.68s/it]\n"
     ]
    }
   ],
   "source": [
    "extracted_features = extract_features(\n",
    "    df,\n",
    "    column_id=\"id\",\n",
    "    column_sort=\"time\",\n",
    "    default_fc_parameters=EfficientFCParameters()\n",
    ")"
   ]
  },
  {
   "cell_type": "code",
   "execution_count": 14,
   "id": "afd6d795",
   "metadata": {},
   "outputs": [
    {
     "data": {
      "text/html": [
       "<div>\n",
       "<style scoped>\n",
       "    .dataframe tbody tr th:only-of-type {\n",
       "        vertical-align: middle;\n",
       "    }\n",
       "\n",
       "    .dataframe tbody tr th {\n",
       "        vertical-align: top;\n",
       "    }\n",
       "\n",
       "    .dataframe thead th {\n",
       "        text-align: right;\n",
       "    }\n",
       "</style>\n",
       "<table border=\"1\" class=\"dataframe\">\n",
       "  <thead>\n",
       "    <tr style=\"text-align: right;\">\n",
       "      <th></th>\n",
       "      <th>ECOG_L_1_SMC_AT__variance_larger_than_standard_deviation</th>\n",
       "      <th>ECOG_L_1_SMC_AT__has_duplicate_max</th>\n",
       "      <th>ECOG_L_1_SMC_AT__has_duplicate_min</th>\n",
       "      <th>ECOG_L_1_SMC_AT__has_duplicate</th>\n",
       "      <th>ECOG_L_1_SMC_AT__sum_values</th>\n",
       "      <th>ECOG_L_1_SMC_AT__abs_energy</th>\n",
       "      <th>ECOG_L_1_SMC_AT__mean_abs_change</th>\n",
       "      <th>ECOG_L_1_SMC_AT__mean_change</th>\n",
       "      <th>ECOG_L_1_SMC_AT__mean_second_derivative_central</th>\n",
       "      <th>ECOG_L_1_SMC_AT__median</th>\n",
       "      <th>...</th>\n",
       "      <th>ECOG_L_1_SMC_AT__permutation_entropy__dimension_6__tau_1</th>\n",
       "      <th>ECOG_L_1_SMC_AT__permutation_entropy__dimension_7__tau_1</th>\n",
       "      <th>ECOG_L_1_SMC_AT__query_similarity_count__query_None__threshold_0.0</th>\n",
       "      <th>ECOG_L_1_SMC_AT__matrix_profile__feature_\"min\"__threshold_0.98</th>\n",
       "      <th>ECOG_L_1_SMC_AT__matrix_profile__feature_\"max\"__threshold_0.98</th>\n",
       "      <th>ECOG_L_1_SMC_AT__matrix_profile__feature_\"mean\"__threshold_0.98</th>\n",
       "      <th>ECOG_L_1_SMC_AT__matrix_profile__feature_\"median\"__threshold_0.98</th>\n",
       "      <th>ECOG_L_1_SMC_AT__matrix_profile__feature_\"25\"__threshold_0.98</th>\n",
       "      <th>ECOG_L_1_SMC_AT__matrix_profile__feature_\"75\"__threshold_0.98</th>\n",
       "      <th>ECOG_L_1_SMC_AT__mean_n_absolute_max__number_of_maxima_7</th>\n",
       "    </tr>\n",
       "  </thead>\n",
       "  <tbody>\n",
       "    <tr>\n",
       "      <th>1</th>\n",
       "      <td>1.0</td>\n",
       "      <td>0.0</td>\n",
       "      <td>0.0</td>\n",
       "      <td>1.0</td>\n",
       "      <td>7.395000e+09</td>\n",
       "      <td>1.796269e+18</td>\n",
       "      <td>6.304221e+06</td>\n",
       "      <td>-27656.477438</td>\n",
       "      <td>-3641.660597</td>\n",
       "      <td>11000000.0</td>\n",
       "      <td>...</td>\n",
       "      <td>5.281287</td>\n",
       "      <td>6.227179</td>\n",
       "      <td>NaN</td>\n",
       "      <td>1.357522</td>\n",
       "      <td>6.090479</td>\n",
       "      <td>3.49236</td>\n",
       "      <td>3.450188</td>\n",
       "      <td>2.549251</td>\n",
       "      <td>4.486479</td>\n",
       "      <td>9.542857e+07</td>\n",
       "    </tr>\n",
       "  </tbody>\n",
       "</table>\n",
       "<p>1 rows × 783 columns</p>\n",
       "</div>"
      ],
      "text/plain": [
       "   ECOG_L_1_SMC_AT__variance_larger_than_standard_deviation  \\\n",
       "1                                                1.0          \n",
       "\n",
       "   ECOG_L_1_SMC_AT__has_duplicate_max  ECOG_L_1_SMC_AT__has_duplicate_min  \\\n",
       "1                                 0.0                                 0.0   \n",
       "\n",
       "   ECOG_L_1_SMC_AT__has_duplicate  ECOG_L_1_SMC_AT__sum_values  \\\n",
       "1                             1.0                 7.395000e+09   \n",
       "\n",
       "   ECOG_L_1_SMC_AT__abs_energy  ECOG_L_1_SMC_AT__mean_abs_change  \\\n",
       "1                 1.796269e+18                      6.304221e+06   \n",
       "\n",
       "   ECOG_L_1_SMC_AT__mean_change  \\\n",
       "1                 -27656.477438   \n",
       "\n",
       "   ECOG_L_1_SMC_AT__mean_second_derivative_central  ECOG_L_1_SMC_AT__median  \\\n",
       "1                                     -3641.660597               11000000.0   \n",
       "\n",
       "   ...  ECOG_L_1_SMC_AT__permutation_entropy__dimension_6__tau_1  \\\n",
       "1  ...                                           5.281287          \n",
       "\n",
       "   ECOG_L_1_SMC_AT__permutation_entropy__dimension_7__tau_1  \\\n",
       "1                                           6.227179          \n",
       "\n",
       "   ECOG_L_1_SMC_AT__query_similarity_count__query_None__threshold_0.0  \\\n",
       "1                                                NaN                    \n",
       "\n",
       "   ECOG_L_1_SMC_AT__matrix_profile__feature_\"min\"__threshold_0.98  \\\n",
       "1                                           1.357522                \n",
       "\n",
       "   ECOG_L_1_SMC_AT__matrix_profile__feature_\"max\"__threshold_0.98  \\\n",
       "1                                           6.090479                \n",
       "\n",
       "   ECOG_L_1_SMC_AT__matrix_profile__feature_\"mean\"__threshold_0.98  \\\n",
       "1                                            3.49236                 \n",
       "\n",
       "   ECOG_L_1_SMC_AT__matrix_profile__feature_\"median\"__threshold_0.98  \\\n",
       "1                                           3.450188                   \n",
       "\n",
       "   ECOG_L_1_SMC_AT__matrix_profile__feature_\"25\"__threshold_0.98  \\\n",
       "1                                           2.549251               \n",
       "\n",
       "   ECOG_L_1_SMC_AT__matrix_profile__feature_\"75\"__threshold_0.98  \\\n",
       "1                                           4.486479               \n",
       "\n",
       "   ECOG_L_1_SMC_AT__mean_n_absolute_max__number_of_maxima_7  \n",
       "1                                       9.542857e+07         \n",
       "\n",
       "[1 rows x 783 columns]"
      ]
     },
     "execution_count": 14,
     "metadata": {},
     "output_type": "execute_result"
    }
   ],
   "source": [
    "extracted_features"
   ]
  },
  {
   "cell_type": "code",
   "execution_count": null,
   "id": "a7fce465",
   "metadata": {},
   "outputs": [],
   "source": []
  }
 ],
 "metadata": {
  "kernelspec": {
   "display_name": "pn_env",
   "language": "python",
   "name": "pn_env"
  },
  "language_info": {
   "codemirror_mode": {
    "name": "ipython",
    "version": 3
   },
   "file_extension": ".py",
   "mimetype": "text/x-python",
   "name": "python",
   "nbconvert_exporter": "python",
   "pygments_lexer": "ipython3",
   "version": "3.10.4"
  }
 },
 "nbformat": 4,
 "nbformat_minor": 5
}
