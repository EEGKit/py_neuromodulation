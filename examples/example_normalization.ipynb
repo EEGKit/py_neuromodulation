{
 "cells": [
  {
   "cell_type": "markdown",
   "source": [
    "# Example notebook for different normalization techniques"
   ],
   "metadata": {
    "collapsed": false,
    "pycharm": {
     "name": "#%% md\n"
    }
   }
  },
  {
   "cell_type": "markdown",
   "metadata": {
    "collapsed": true,
    "pycharm": {
     "name": "#%% md\n"
    }
   },
   "source": [
    "Notebooks for normalization (real data; no norm, zscore, quantile transform) and check decoding performance differences\n",
    "\n",
    "\n",
    "\n",
    "Features or raw normalization?\n",
    "\n",
    "\n",
    "\n",
    "Normalization methods available in py_neuromodulation are:\n",
    "\n",
    "  MEAN = \"mean\"\n",
    "\n",
    "  MEDIAN = \"median\"\n",
    "\n",
    "  ZSCORE = \"zscore\"\n",
    "\n",
    "  ZSCORE_MEDIAN = \"zscore-median\"\n",
    "\n",
    "  QUANTILE = \"quantile\"\n",
    "\n",
    "  POWER = \"power\"\n",
    "\n",
    "  ROBUST = \"robust\"\n",
    "\n",
    "  MINMAX = \"minmax\"`\n",
    "\n",
    "We are going to explore the differences between no normalization, zscoring and quantile normalization.\n",
    "\n",
    "In pre-processing, raw normalization refers to normalizing the data with respect to the past number of \"normalize_samples\".\n",
    "\n",
    "In post-processing, feature normalization refers to normalizing features with respect to the past number of \"normalize_samples\"."
   ]
  },
  {
   "cell_type": "markdown",
   "source": [
    "### No Normalization"
   ],
   "metadata": {
    "collapsed": false,
    "pycharm": {
     "name": "#%% md\n"
    }
   }
  },
  {
   "cell_type": "code",
   "execution_count": null,
   "outputs": [],
   "source": [],
   "metadata": {
    "collapsed": false,
    "pycharm": {
     "name": "#%%\n"
    }
   }
  },
  {
   "cell_type": "markdown",
   "source": [
    " ### Zscore\n",
    " The normalized array of the current sample subtracts the previous sample mean and divides it by the previous sample standard deviation."
   ],
   "metadata": {
    "collapsed": false,
    "pycharm": {
     "name": "#%% md\n"
    }
   }
  },
  {
   "cell_type": "code",
   "execution_count": null,
   "outputs": [],
   "source": [],
   "metadata": {
    "collapsed": false,
    "pycharm": {
     "name": "#%%\n"
    }
   }
  },
  {
   "cell_type": "markdown",
   "source": [
    "### Quantile\n",
    "\n",
    "Quantile normalization is a technique for making two distributions identical in statistical properties. To quantile-normalize a test distribution to a reference distribution of the same length, sort the test distribution and sort the reference distribution. The highest entry in the test distribution then takes the value of the highest entry in the reference distribution, the next highest entry in the reference distribution, and so on, until the test distribution is a perturbation of the reference distribution. [1]"
   ],
   "metadata": {
    "collapsed": false,
    "pycharm": {
     "name": "#%% md\n"
    }
   }
  },
  {
   "cell_type": "code",
   "execution_count": null,
   "outputs": [],
   "source": [],
   "metadata": {
    "collapsed": false,
    "pycharm": {
     "name": "#%%\n"
    }
   }
  },
  {
   "cell_type": "code",
   "execution_count": null,
   "outputs": [],
   "source": [],
   "metadata": {
    "collapsed": false,
    "pycharm": {
     "name": "#%%\n"
    }
   }
  },
  {
   "cell_type": "code",
   "execution_count": null,
   "outputs": [],
   "source": [],
   "metadata": {
    "collapsed": false,
    "pycharm": {
     "name": "#%%\n"
    }
   }
  },
  {
   "cell_type": "markdown",
   "source": [
    "#### References\n",
    "[1] Quantile normalization, https://en.wikipedia.org/wiki/Quantile_normalization"
   ],
   "metadata": {
    "collapsed": false,
    "pycharm": {
     "name": "#%% md\n"
    }
   }
  }
 ],
 "metadata": {
  "kernelspec": {
   "display_name": "Python 3",
   "language": "python",
   "name": "python3"
  },
  "language_info": {
   "codemirror_mode": {
    "name": "ipython",
    "version": 2
   },
   "file_extension": ".py",
   "mimetype": "text/x-python",
   "name": "python",
   "nbconvert_exporter": "python",
   "pygments_lexer": "ipython2",
   "version": "2.7.6"
  }
 },
 "nbformat": 4,
 "nbformat_minor": 0
}