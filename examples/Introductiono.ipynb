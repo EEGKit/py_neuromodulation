{
 "cells": [
  {
   "attachments": {},
   "cell_type": "markdown",
   "metadata": {},
   "source": [
    "# Introduction\n",
    "\n",
    "## Why py_neuromodulation?\n",
    "\n",
    "Analzing neural data can be a troublesome, trial and error prone, and beginner unfriendly process. py_neurmodulation allows using a simple interface extraction of established features and includes common applied pre -and postprocessing methods.\n",
    "\n",
    "The approach is quite simple, only two things are required:\n",
    "\n",
    "1. time series data and\n",
    "2. a corresponding sampling frequency\n",
    "\n",
    "The output will be a time resolved dataframe including different feature modalities that were stream in a simulated real-time format. The following features are included:\n",
    "\n",
    "- oscillatory: fft, stft or bandpass filtered band power\n",
    "- temporal waveform shape\n",
    "- fooof\n",
    "- mne_connectivity estimates\n",
    "- Hjorth parameter\n",
    "- non-linear dynamical estimates\n",
    "- line length\n",
    "- and more...\n",
    "\n",
    "With a simple demonstration using random data, the following features can be calculated:\n",
    "\n",
    "include picture\n",
    "\n",
    "## How can those features be used?\n",
    "\n",
    "The original intention for writing this toolbox was movement decoding from invasive brain signals (Merk et al eLife). The application however could be any neural decoding problem. py_neuromodulation offers wrappers around common pratice Machine Learning methods to efficiently analyze the estimated features.\n",
    "\n"
   ]
  },
  {
   "cell_type": "markdown",
   "metadata": {},
   "source": []
  }
 ],
 "metadata": {
  "kernelspec": {
   "display_name": "pn_env",
   "language": "python",
   "name": "python3"
  },
  "language_info": {
   "name": "python",
   "version": "3.10.4 | packaged by conda-forge | (main, Mar 24 2022, 17:34:17) [MSC v.1929 64 bit (AMD64)]"
  },
  "orig_nbformat": 4,
  "vscode": {
   "interpreter": {
    "hash": "068809834e2a877c66848149765187bcd8d0c325867eadeec9fbf2ed2d947eea"
   }
  }
 },
 "nbformat": 4,
 "nbformat_minor": 2
}
