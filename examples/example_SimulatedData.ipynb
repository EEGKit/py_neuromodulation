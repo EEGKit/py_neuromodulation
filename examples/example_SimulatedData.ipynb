{
 "cells": [
  {
   "cell_type": "markdown",
   "source": [
    "# Example with Simulated Data in non-BIDS format\n",
    "\n",
    "The point of this notebook is to show how to set up the data without BIDS.\n",
    "We start by loading the important packages."
   ],
   "metadata": {
    "collapsed": false,
    "pycharm": {
     "name": "#%% md\n"
    }
   }
  },
  {
   "cell_type": "code",
   "execution_count": 1,
   "outputs": [],
   "source": [
    "import os\n",
    "\n",
    "import numpy as np\n",
    "\n",
    "from py_neuromodulation import (\n",
    "    nm_analysis,\n",
    "    nm_define_nmchannels,\n",
    "    nm_IO,\n",
    "    nm_stream_offline,\n",
    "    nm_plots\n",
    ")\n",
    "\n",
    "import matplotlib.pyplot as plt\n",
    "# Reload imports to get changes in other scripts\n",
    "%load_ext autoreload\n",
    "%autoreload 2"
   ],
   "metadata": {
    "collapsed": false,
    "pycharm": {
     "name": "#%%\n"
    }
   }
  },
  {
   "cell_type": "markdown",
   "source": [
    "Set up the necessary paths to the data."
   ],
   "metadata": {
    "collapsed": false,
    "pycharm": {
     "name": "#%% md\n"
    }
   }
  },
  {
   "cell_type": "code",
   "execution_count": 2,
   "outputs": [],
   "source": [
    "SCRIPT_PATH = os.path.dirname(os.path.abspath(''))\n",
    "DATA_PATH = os.path.join(SCRIPT_PATH,'examples','data','simulated_Data','data.mat')\n",
    "\n",
    "PATH_OUT = os.path.join(SCRIPT_PATH,'examples','data','simulated_Data')"
   ],
   "metadata": {
    "collapsed": false,
    "pycharm": {
     "name": "#%%\n"
    }
   }
  },
  {
   "cell_type": "markdown",
   "source": [
    "__Here we load our data.__\n",
    "\n",
    "The data is saved in examples/data/simulated_Data/data.mat\n",
    "\n",
    "From nm_IO we use the loadmat function to load this data, and then we can see that the channel names, as well as the bad channels and the sampling frequency are also specified.\n",
    "\n",
    "The scrip that generates the data is examples/createSimulatedData.py"
   ],
   "metadata": {
    "collapsed": false,
    "pycharm": {
     "name": "#%% md\n"
    }
   }
  },
  {
   "cell_type": "code",
   "execution_count": 3,
   "outputs": [],
   "source": [
    "data_dict = nm_IO.loadmat(DATA_PATH)"
   ],
   "metadata": {
    "collapsed": false,
    "pycharm": {
     "name": "#%%\n"
    }
   }
  },
  {
   "cell_type": "code",
   "execution_count": 4,
   "outputs": [],
   "source": [
    "data = data_dict['data'] # voltage values for our simulated data\n",
    "channels = data_dict['channels'] # array with all channel names\n",
    "bad = data_dict['bad'] # bad channels\n",
    "sfreq = data_dict['sfreq']  # sampling frequency"
   ],
   "metadata": {
    "collapsed": false,
    "pycharm": {
     "name": "#%%\n"
    }
   }
  },
  {
   "cell_type": "markdown",
   "source": [
    "In order to give the channel names to the Stream class, we need them to be set with\n",
    "```nm_define_nmchannels.set_channels```.\n",
    "We also set the type to be \"ecog\", but please remember this is actually simulated data."
   ],
   "metadata": {
    "collapsed": false,
    "pycharm": {
     "name": "#%% md\n"
    }
   }
  },
  {
   "cell_type": "code",
   "execution_count": 5,
   "outputs": [
    {
     "name": "stdout",
     "output_type": "stream",
     "text": [
      "No Error occurred when testing the settings.\n",
      "No data specified. Sanity checks related to the length of the signal relative to the filter order will be skipped.\n",
      "Setting up band-stop filter\n",
      "\n",
      "FIR filter parameters\n",
      "---------------------\n",
      "Designing a one-pass, zero-phase, non-causal bandstop filter:\n",
      "- Windowed time-domain design (firwin) method\n",
      "- Hamming window with 0.0194 passband ripple and 53 dB stopband attenuation\n",
      "- Lower transition bandwidth: 7.50 Hz\n",
      "- Upper transition bandwidth: 7.50 Hz\n",
      "- Filter length: 999 samples (0.999 sec)\n",
      "\n"
     ]
    }
   ],
   "source": [
    "ch_names = list(channels)\n",
    "ch_types = [\"ecog\" for _ in range(len(ch_names))]\n",
    "\n",
    "nm_channels = nm_define_nmchannels.set_channels(\n",
    "    ch_names=ch_names,\n",
    "    ch_types=ch_types,\n",
    "    reference=\"default\",\n",
    "    bads=None,\n",
    "    new_names=\"default\",\n",
    "    used_types=[\"ecog\"],\n",
    ")\n",
    "\n",
    "stream = nm_stream_offline.Stream(\n",
    "    settings=None,\n",
    "    nm_channels=nm_channels,\n",
    "    verbose=False,          # Change here if you want to see the outputs of the run\n",
    ")\n",
    "\n",
    "stream.set_settings_fast_compute()\n",
    "stream.settings['features']['raw_hjorth'] = True\n",
    "stream.settings['features']['bandpass_filter'] = False\n",
    "stream.settings['features']['fft'] = True\n",
    "stream.settings['features']['sharpwave_analysis'] = False\n",
    "stream.settings['postprocessing']['feature_normalization'] = False\n",
    "stream.settings['feature_normalization_settings']['normalization_time_s'] = 10\n",
    "stream.settings['feature_normalization_settings']['normalization_method'] = 'zscore-median'\n",
    "\n",
    "stream.init_stream(\n",
    "    sfreq=sfreq,\n",
    "    line_noise=50,\n",
    ")"
   ],
   "metadata": {
    "collapsed": false,
    "pycharm": {
     "name": "#%%\n"
    }
   }
  },
  {
   "cell_type": "code",
   "execution_count": 6,
   "outputs": [],
   "source": [
    "stream.settings; # remove the ; to print out the settings"
   ],
   "metadata": {
    "collapsed": false,
    "pycharm": {
     "name": "#%%\n"
    }
   }
  },
  {
   "cell_type": "markdown",
   "source": [
    "## Feature Estimation\n",
    "The feature estimation step is, then, as straightforward as in example_BIDS.ipynb."
   ],
   "metadata": {
    "collapsed": false,
    "pycharm": {
     "name": "#%% md\n"
    }
   }
  },
  {
   "cell_type": "code",
   "execution_count": 7,
   "outputs": [
    {
     "name": "stdout",
     "output_type": "stream",
     "text": [
      "_SIDECAR.json saved to /home/lauraflyra/Documents/BCCN/Lab_Rotation_DBS_Decoding/Code/py_neuromodulation/examples/data/simulated_Data/simulated_Data_results/simulated_Data_results_SIDECAR.json\n",
      "FEATURES.csv saved to /home/lauraflyra/Documents/BCCN/Lab_Rotation_DBS_Decoding/Code/py_neuromodulation/examples/data/simulated_Data/simulated_Data_results/simulated_Data_results_FEATURES.csv\n",
      "settings.json saved to /home/lauraflyra/Documents/BCCN/Lab_Rotation_DBS_Decoding/Code/py_neuromodulation/examples/data/simulated_Data/simulated_Data_results/simulated_Data_results_SETTINGS.json\n",
      "nm_channels.csv saved to /home/lauraflyra/Documents/BCCN/Lab_Rotation_DBS_Decoding/Code/py_neuromodulation/examples/data/simulated_Data/simulated_Data_results/simulated_Data_results_nm_channels.csv\n"
     ]
    }
   ],
   "source": [
    "stream.run(\n",
    "    data=data,\n",
    "    folder_name=\"simulated_Data_results\",\n",
    "    out_path_root=PATH_OUT,\n",
    ")"
   ],
   "metadata": {
    "collapsed": false,
    "pycharm": {
     "name": "#%%\n"
    }
   }
  }
 ],
 "metadata": {
  "kernelspec": {
   "display_name": "Python 3",
   "language": "python",
   "name": "python3"
  },
  "language_info": {
   "codemirror_mode": {
    "name": "ipython",
    "version": 2
   },
   "file_extension": ".py",
   "mimetype": "text/x-python",
   "name": "python",
   "nbconvert_exporter": "python",
   "pygments_lexer": "ipython2",
   "version": "2.7.6"
  }
 },
 "nbformat": 4,
 "nbformat_minor": 0
}